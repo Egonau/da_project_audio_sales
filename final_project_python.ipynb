{
 "cells": [
  {
   "cell_type": "markdown",
   "metadata": {},
   "source": [
    "#  «Анализ данных об оптовых продажах аудиотехники»"
   ]
  },
  {
   "cell_type": "markdown",
   "metadata": {},
   "source": [
    "**В финальном проекте модуля Python вам предстоит поработать аналитиком данных в компании «Карпов Саунд», которая занимается оптовой продажей аудиотехники и предлагает широкий ассортимент товаров от ведущих мировых брендов, включающий профессиональные аудиосистемы, домашние кинотеатры, портативные аудиоустройства и прочие аксессуары.** \n",
    "\n",
    "«Карпов Саунд» сотрудничает с крупными розничными сетями и специализированными магазинами аудиотехники в России. Клиенты компании регулярно оставляют заявки на закупку товаров в CRM системе, менеджеры связываются с клиентами, обсуждают детали, после чего заказы либо подтверждаются менеджерами, либо по разным причинам отменяются. \n",
    "\n",
    "В «Карпов Саунд» трепетно относятся к хранению информации о своих товарах, клиентах и заказах, однако в самый неподходящий момент хранилище данных компании оказалось временно недоступно из-за плановых работ по его оптимизации. Поэтому в рамках этого проекта все данные будут представлены не в самом удобном для анализа виде — в формате резервной выгрузки, разложенной по разным папкам на сервере компании.\n",
    "\n",
    "Вам необходимо собрать данные из разрозненных источников, проанализировать их и сделать выводы, которые помогут руководству компании принять верные тактические решения."
   ]
  },
  {
   "cell_type": "markdown",
   "metadata": {},
   "source": [
    "**В ходе работы над проектом вам встретятся следующие таблицы:**  \n",
    "\n",
    "1) orders (данные о заказах):  \n",
    "- order_id — номер заказа  \n",
    "- product_id — идентификатор товара  \n",
    "- quantity — количество этого товара в заказе\n",
    "\n",
    "2) order_status (данные о статусах заказов и клиентах):\n",
    "- order_id — номер заказа  \n",
    "- client_id — идентификатор клиента  \n",
    "- status — статус заказа\n",
    "\n",
    "3) products (данные о товарах):\n",
    "- id — идентификатор товара  \n",
    "- name — имя товара (сначала указан бренд, через запятую модель товара)  \n",
    "- price — цена единицы товара, в долларах"
   ]
  },
  {
   "cell_type": "markdown",
   "metadata": {},
   "source": [
    "Каждый заказ имеет статус или подтвержденного (`confirmed`), или отмененного (`canceled`). В одном заказе может быть несколько разных товаров. Если заказ был отменен, а потом создан такой же (тем же клиентом, с теми же товарами, у того же менеджера), в базе останется запись о двух заказах с разными номерами и статусами, поскольку система не позволяет создать заказ с тем же номером.\n",
    "\n",
    "Сначала вам нужно собрать и предобработать три типа датасетов: `orders.csv`, `order_status.csv`, `products.csv`."
   ]
  },
  {
   "cell_type": "markdown",
   "metadata": {},
   "source": [
    "На схеме показано, как связаны таблицы между собой:"
   ]
  },
  {
   "cell_type": "markdown",
   "metadata": {},
   "source": [
    "![](https://storage.yandexcloud.net/klms-public/production/learning-content/457/4167/37264/104636/497986/er_white.png)"
   ]
  },
  {
   "cell_type": "markdown",
   "metadata": {},
   "source": [
    "Данные находятся в папке `data` из директории `shared` (`shared` -> `homeworks` -> `python_ds_miniprojects` -> `final_project`). Внутри папки `data` находятся 2 другие папки: `orders` и `products`.\n",
    "\n",
    "В папке `orders` папки с датами, в которые сделаны записи. В этих папках — папки с именами менеджеров по продажам. Эти папки содержат файлы `orders.csv` и `order_status.csv` (в каждой папке по одной паре файлов). Пример структуры: `data` -> `orders` -> `2024-03-01` -> `Алексей Саксофонов` -> `orders.csv` и `order_status.csv`.\n",
    "\n",
    "В папке `products` папки с категориями товаров. В этих папках файлы `products.csv` (в каждой папке по одному файлу). Пример структуры: `data` -> `products` -> `AV-процессор` -> `products.csv`."
   ]
  },
  {
   "cell_type": "markdown",
   "metadata": {},
   "source": [
    "Кроме того у вас есть файл `usd_rate.txt` с курсом доллара США на каждый день анализируемого периода (данные в формате `дата,курс,валюта`). Он потребуется в середине проекта."
   ]
  },
  {
   "cell_type": "markdown",
   "metadata": {},
   "source": [
    "В финальном проекте модуля вы можете пользоваться подсказками в ноутбуке (они менее подробные, чем были в предыдущих уроках), обращаться за помощью к экспертам в Discord и смотреть разборы в LMS (за просмотр разбора снимается половина баллов за задание)."
   ]
  },
  {
   "cell_type": "markdown",
   "metadata": {},
   "source": [
    "### Соберем датасет с заказами по папкам"
   ]
  },
  {
   "cell_type": "code",
   "execution_count": 1,
   "metadata": {},
   "outputs": [],
   "source": [
    "import os\n",
    "import pandas as pd\n",
    "import matplotlib.pyplot as plt\n",
    "import seaborn as sns\n",
    "import numpy as np"
   ]
  },
  {
   "cell_type": "markdown",
   "metadata": {},
   "source": [
    "## Шаг 2"
   ]
  },
  {
   "cell_type": "markdown",
   "metadata": {},
   "source": [
    "**Ваша первая задача — собрать данные со всех папок в три датафрейма:**  \n",
    "1. `df_orders` — на основе датасетов `orders.csv` + добавьте колонку `manager` с именами менеджеров и колонку `date` с датами. \n",
    "2. `df_order_status` — на основе датасетов `order_status.csv`.  \n",
    "3. `df_products` — на основе датасетов `products.csv` + добавьте колонку `category` с категориями товаров.  \n",
    "\n",
    "**Соберите датафреймы и сохраните их в соответствующие csv файлы: `df_orders.csv`, `df_order_status.csv` и `df_products.csv`. Отправьте файлы на проверку в LMS.**"
   ]
  },
  {
   "cell_type": "markdown",
   "metadata": {},
   "source": [
    "<details>\n",
    "<summary>&#9658; Нажмите сюда, чтобы увидеть подсказку</summary>\n",
    "  <p>\n",
    "      \n",
    "1) Импортируйте библиотеки `pandas` и `os`.  \n",
    "      \n",
    "2) По аналогии с кодом, который вы использовали для сбора данных в 7-м уроке про грязные данные, сделайте следующее:  \n",
    "a. создайте путь к папке `data`, используя ваш логин;  \n",
    "b. соберите названия нужных вам файлов (`orders.csv`, `order_status.csv`, `products.csv`) в список `target_files`;  \n",
    "c. создайте пустой список `data_files`, куда будете сохранять пути к файлам;  \n",
    "d. с помощью функции `os.walk()` создайте генератор;  \n",
    "e. с помощью цикла пройдитесь по генератору и, если название файла совпадает с нужным вам из списка `target_files`, путь к этому файлу добавьте в список `data_files`.\n",
    "      \n",
    "3) Используя пути к файлам из списка `data_files`, соберите полные датафреймы `df_orders`, `df_order_status` и `df_products`:  \n",
    "a. создайте пустые списки `orders_df_list`, `order_status_df_list` и `products_df_list`, чтобы в них сложить данные для соответствующих датафреймов;  \n",
    "b. с помощью цикла пройдитесь по путям в списке `data_files` и прочитайте датафрейм по этому пути. Добавьте датафрейм в тот или иной список в зависимости от того, название какого датасета содержит путь. Если в названии пути есть `orders.csv`, перед добавлением в список создайте колонки `manager` с именами менеджеров и `date` с датами. А если в названии пути есть `products.csv`, перед добавлением в список создайте колонку `category` с категориями товаров. Для создания колонок используйте подстроки из строки с путем.  \n",
    "      \n",
    "4) Каждый раз используя функцию `pd.concat` с параметром `ignore_index=True`, соберите данные в датафреймы: из списка `orders_df_list` в датафрейм `df_orders`, из списка `order_status_df_list` — в датафрейм `df_order_status`, а из списка `products_df_list` - в датафрейм `df_products`.\n",
    "      \n",
    "5) Проверьте размер каждого датафрейма и убедитесь, что:\n",
    "- `df_orders` имеет размер (4603, 5)\n",
    "- `df_order_status` — (346, 3)\n",
    "- `df_products` — (1677, 4)\n",
    "      \n",
    "6) Сохраните каждый датафрейм в соответствующий csv файл, задав его название как строку и параметр `index=False`.\n",
    "      \n",
    "7) По одному скачайте получившиеся csv файлы из той же папки в JupyterHub, где находится ноутбук, в котором вы пишете этот код.\n",
    "\n",
    "      \n",
    "</p>\n",
    "</details>"
   ]
  },
  {
   "cell_type": "code",
   "execution_count": 2,
   "metadata": {},
   "outputs": [],
   "source": [
    "p = '/mnt/HC_Volume_18315164/home-jupyter/jupyter-egor-naumov-ffb876-c15c9/shared/homeworks/python_ds_miniprojects/final_project/data/'\n",
    "df_orders = pd.DataFrame()\n",
    "df_order_status = pd.DataFrame()\n",
    "df_products = pd.DataFrame()\n",
    "for path, dirs, files in os.walk(p):\n",
    "    for i in files:\n",
    "        if i.endswith('orders.csv'):\n",
    "            link = os.path.join(path,i)\n",
    "            d = pd.read_csv(link)\n",
    "            d['manager'] = link.split('/')[-2]\n",
    "            d[\"date\"] = link.split('/')[-3]\n",
    "            df_orders = pd.concat([df_orders, d])\n",
    "        elif i.endswith('order_status.csv'):\n",
    "            link = os.path.join(path,i)\n",
    "            d = pd.read_csv(link)\n",
    "            df_order_status = pd.concat([df_order_status, d])\n",
    "        elif i.endswith('products.csv'):\n",
    "            link = os.path.join(path,i)\n",
    "            d = pd.read_csv(link)\n",
    "            d['category'] = link.split('/')[-2]\n",
    "            df_products = pd.concat([df_products, d])\n"
   ]
  },
  {
   "cell_type": "code",
   "execution_count": 3,
   "metadata": {},
   "outputs": [],
   "source": [
    "df_order_status.reset_index(inplace = True, drop = True)\n",
    "df_orders.reset_index(inplace = True, drop = True)\n",
    "df_products.reset_index(inplace = True, drop = True)"
   ]
  },
  {
   "cell_type": "code",
   "execution_count": 4,
   "metadata": {},
   "outputs": [
    {
     "data": {
      "text/html": [
       "<div>\n",
       "<style scoped>\n",
       "    .dataframe tbody tr th:only-of-type {\n",
       "        vertical-align: middle;\n",
       "    }\n",
       "\n",
       "    .dataframe tbody tr th {\n",
       "        vertical-align: top;\n",
       "    }\n",
       "\n",
       "    .dataframe thead th {\n",
       "        text-align: right;\n",
       "    }\n",
       "</style>\n",
       "<table border=\"1\" class=\"dataframe\">\n",
       "  <thead>\n",
       "    <tr style=\"text-align: right;\">\n",
       "      <th></th>\n",
       "      <th>order_id</th>\n",
       "      <th>client_id</th>\n",
       "      <th>status</th>\n",
       "    </tr>\n",
       "  </thead>\n",
       "  <tbody>\n",
       "    <tr>\n",
       "      <th>0</th>\n",
       "      <td>QPLK-54839036</td>\n",
       "      <td>52</td>\n",
       "      <td>confirmed</td>\n",
       "    </tr>\n",
       "    <tr>\n",
       "      <th>1</th>\n",
       "      <td>MAQJ-95867467</td>\n",
       "      <td>84</td>\n",
       "      <td>canceled</td>\n",
       "    </tr>\n",
       "    <tr>\n",
       "      <th>2</th>\n",
       "      <td>KHLF-51759445</td>\n",
       "      <td>23</td>\n",
       "      <td>confirmed</td>\n",
       "    </tr>\n",
       "    <tr>\n",
       "      <th>3</th>\n",
       "      <td>DALF-47566548</td>\n",
       "      <td>97</td>\n",
       "      <td>confirmed</td>\n",
       "    </tr>\n",
       "    <tr>\n",
       "      <th>4</th>\n",
       "      <td>BZHU-92977894</td>\n",
       "      <td>29</td>\n",
       "      <td>canceled</td>\n",
       "    </tr>\n",
       "    <tr>\n",
       "      <th>...</th>\n",
       "      <td>...</td>\n",
       "      <td>...</td>\n",
       "      <td>...</td>\n",
       "    </tr>\n",
       "    <tr>\n",
       "      <th>341</th>\n",
       "      <td>SOCT-63427141</td>\n",
       "      <td>30</td>\n",
       "      <td>confirmed</td>\n",
       "    </tr>\n",
       "    <tr>\n",
       "      <th>342</th>\n",
       "      <td>HLDH-41146746</td>\n",
       "      <td>22</td>\n",
       "      <td>confirmed</td>\n",
       "    </tr>\n",
       "    <tr>\n",
       "      <th>343</th>\n",
       "      <td>IZFC-94335845</td>\n",
       "      <td>56</td>\n",
       "      <td>confirmed</td>\n",
       "    </tr>\n",
       "    <tr>\n",
       "      <th>344</th>\n",
       "      <td>CUDB-19668701</td>\n",
       "      <td>82</td>\n",
       "      <td>confirmed</td>\n",
       "    </tr>\n",
       "    <tr>\n",
       "      <th>345</th>\n",
       "      <td>UAKD-95751033</td>\n",
       "      <td>61</td>\n",
       "      <td>confirmed</td>\n",
       "    </tr>\n",
       "  </tbody>\n",
       "</table>\n",
       "<p>346 rows × 3 columns</p>\n",
       "</div>"
      ],
      "text/plain": [
       "          order_id  client_id     status\n",
       "0    QPLK-54839036         52  confirmed\n",
       "1    MAQJ-95867467         84   canceled\n",
       "2    KHLF-51759445         23  confirmed\n",
       "3    DALF-47566548         97  confirmed\n",
       "4    BZHU-92977894         29   canceled\n",
       "..             ...        ...        ...\n",
       "341  SOCT-63427141         30  confirmed\n",
       "342  HLDH-41146746         22  confirmed\n",
       "343  IZFC-94335845         56  confirmed\n",
       "344  CUDB-19668701         82  confirmed\n",
       "345  UAKD-95751033         61  confirmed\n",
       "\n",
       "[346 rows x 3 columns]"
      ]
     },
     "execution_count": 4,
     "metadata": {},
     "output_type": "execute_result"
    }
   ],
   "source": [
    "df_order_status"
   ]
  },
  {
   "cell_type": "code",
   "execution_count": 5,
   "metadata": {},
   "outputs": [],
   "source": [
    "df_orders.date = pd.to_datetime(df_orders.date)"
   ]
  },
  {
   "cell_type": "code",
   "execution_count": 6,
   "metadata": {},
   "outputs": [],
   "source": [
    "df_order_status.to_csv(\"df_order_status.csv\", index = False)\n",
    "df_orders.to_csv(\"df_orders.csv\", index = False)\n",
    "df_products.to_csv(\"df_products.csv\", index = False)"
   ]
  },
  {
   "cell_type": "markdown",
   "metadata": {},
   "source": [
    "### Посмотрим на общую динамику заказов и определим дни, которые выбиваются из общей картины"
   ]
  },
  {
   "cell_type": "markdown",
   "metadata": {},
   "source": [
    "## Шаг 3"
   ]
  },
  {
   "cell_type": "markdown",
   "metadata": {},
   "source": [
    "Посчитайте количество заказов в каждый день. **Определите день с наибольшим числом заказов.** Укажите этот день в том формате, в котором он представлен в данных (гггг-мм-дд)."
   ]
  },
  {
   "cell_type": "markdown",
   "metadata": {},
   "source": [
    "<details>\n",
    "<summary>&#9658; Нажмите сюда, чтобы увидеть подсказку</summary>\n",
    "  <p>\n",
    "      \n",
    "1) Переведите колонку `date` в тип `datetime`.\n",
    "      \n",
    "2) Сгруппируйте данные по дате и посчитайте число уникальных заказов. Получившуюся колонку с числом заказов можете переименовать в `orders`.\n",
    "      \n",
    "3) Отсортируйте данные по убыванию числа заказов и возьмите дату из верхней строчки.\n",
    "      \n",
    "</p>\n",
    "</details>"
   ]
  },
  {
   "cell_type": "code",
   "execution_count": 7,
   "metadata": {},
   "outputs": [],
   "source": [
    "total_orders_by_day = df_orders\\\n",
    ".groupby(\"date\", as_index = False)\\\n",
    ".agg({\"order_id\":\"count\"})\\\n",
    ".rename(columns = {\"order_id\": \"total_orders\"})\\\n",
    ".sort_values(by = \"total_orders\", ascending = False)\\\n",
    ".reset_index(drop = True)"
   ]
  },
  {
   "cell_type": "code",
   "execution_count": 8,
   "metadata": {},
   "outputs": [
    {
     "data": {
      "text/html": [
       "<div>\n",
       "<style scoped>\n",
       "    .dataframe tbody tr th:only-of-type {\n",
       "        vertical-align: middle;\n",
       "    }\n",
       "\n",
       "    .dataframe tbody tr th {\n",
       "        vertical-align: top;\n",
       "    }\n",
       "\n",
       "    .dataframe thead th {\n",
       "        text-align: right;\n",
       "    }\n",
       "</style>\n",
       "<table border=\"1\" class=\"dataframe\">\n",
       "  <thead>\n",
       "    <tr style=\"text-align: right;\">\n",
       "      <th></th>\n",
       "      <th>date</th>\n",
       "      <th>total_orders</th>\n",
       "    </tr>\n",
       "  </thead>\n",
       "  <tbody>\n",
       "    <tr>\n",
       "      <th>0</th>\n",
       "      <td>2024-03-14</td>\n",
       "      <td>437</td>\n",
       "    </tr>\n",
       "    <tr>\n",
       "      <th>1</th>\n",
       "      <td>2024-03-13</td>\n",
       "      <td>339</td>\n",
       "    </tr>\n",
       "    <tr>\n",
       "      <th>2</th>\n",
       "      <td>2024-03-01</td>\n",
       "      <td>302</td>\n",
       "    </tr>\n",
       "    <tr>\n",
       "      <th>3</th>\n",
       "      <td>2024-03-29</td>\n",
       "      <td>241</td>\n",
       "    </tr>\n",
       "    <tr>\n",
       "      <th>4</th>\n",
       "      <td>2024-03-26</td>\n",
       "      <td>231</td>\n",
       "    </tr>\n",
       "  </tbody>\n",
       "</table>\n",
       "</div>"
      ],
      "text/plain": [
       "        date  total_orders\n",
       "0 2024-03-14           437\n",
       "1 2024-03-13           339\n",
       "2 2024-03-01           302\n",
       "3 2024-03-29           241\n",
       "4 2024-03-26           231"
      ]
     },
     "execution_count": 8,
     "metadata": {},
     "output_type": "execute_result"
    }
   ],
   "source": [
    "total_orders_by_day.head()"
   ]
  },
  {
   "cell_type": "markdown",
   "metadata": {},
   "source": [
    "## Шаг 4"
   ]
  },
  {
   "cell_type": "markdown",
   "metadata": {},
   "source": [
    "**Постройте график с количеством заказов по дням и определите, заметна ли в данных сезонность.**\n",
    "\n",
    "- Да, по выходным заказов намного больше, чем в остальные дни  \n",
    "- Да, по выходным почти нет заказов  \n",
    "- Да, по понедельникам заказов всегда больше, чем в остальные дни недели  \n",
    "- Да, по понедельникам заказов всегда меньше, чем в остальные дни недели  \n",
    "- Нет, в данных сложно обнаружить какие-то закономерности  "
   ]
  },
  {
   "cell_type": "code",
   "execution_count": 9,
   "metadata": {},
   "outputs": [],
   "source": [
    "df_orders['weekday'] = df_orders.date.dt.day_name()"
   ]
  },
  {
   "cell_type": "code",
   "execution_count": 10,
   "metadata": {},
   "outputs": [],
   "source": [
    "total_orders_by_weekday = df_orders\\\n",
    ".groupby(\"weekday\", as_index = False)\\\n",
    ".agg({\"order_id\":\"count\"})\\\n",
    ".rename(columns = {\"order_id\": \"total_orders\"})\\\n",
    ".sort_values(by = \"total_orders\", ascending = False)\\\n",
    ".reset_index(drop = True)"
   ]
  },
  {
   "cell_type": "code",
   "execution_count": 11,
   "metadata": {},
   "outputs": [],
   "source": [
    "order = ['Monday', 'Tuesday', 'Wednesday', 'Thursday', 'Friday', 'Saturday', 'Sunday']"
   ]
  },
  {
   "cell_type": "code",
   "execution_count": 12,
   "metadata": {},
   "outputs": [],
   "source": [
    "total_orders_by_weekday.weekday = total_orders_by_weekday.weekday.astype(\"category\")\n",
    "total_orders_by_weekday.weekday = total_orders_by_weekday.weekday.cat.set_categories(order)"
   ]
  },
  {
   "cell_type": "markdown",
   "metadata": {},
   "source": [
    "<details>\n",
    "<summary>&#9658; Нажмите сюда, чтобы увидеть подсказку</summary>\n",
    "  <p>\n",
    "      \n",
    "1) Импортируйте библиотеку `seaborn` и модуль `pyplot` из библиотеки `matplotlib`.\n",
    "      \n",
    "2) Чтобы все графики в ноутбуке имели одинаковое форматирование, можете установить общие настройки через `sns.set()`.\n",
    "      \n",
    "3) Постройте линейный график, где по оси `х` будут идти даты, а по оси `у` — количество заказов. Если метки с датами наползают друг на друга, поверните их под углом 45 градусов.\n",
    "      \n",
    "</p>\n",
    "</details>"
   ]
  },
  {
   "cell_type": "code",
   "execution_count": 13,
   "metadata": {},
   "outputs": [
    {
     "data": {
      "image/png": "[encoded data removed]",
      "text/plain": [
       "<Figure size 576x432 with 1 Axes>"
      ]
     },
     "metadata": {
      "needs_background": "light"
     },
     "output_type": "display_data"
    }
   ],
   "source": [
    "plt.figure(figsize = (8,6))\n",
    "sns.set_theme()\n",
    "sns.lineplot(data = total_orders_by_weekday,\\\n",
    "             x = 'weekday', y = 'total_orders')\n",
    "plt.title(\"Orders destribution by weekday\")\n",
    "plt.show()"
   ]
  },
  {
   "cell_type": "markdown",
   "metadata": {},
   "source": [
    "## Шаг 5"
   ]
  },
  {
   "cell_type": "markdown",
   "metadata": {},
   "source": [
    "**Кажется, в данных помимо дня с наибольшим числом заказов есть еще один день, который выбивается из общей картины.** Что это за день:  \n",
    "- Это воскресенье, в которое было много заказов?  \n",
    "- Это понедельник, в который было много заказов?  \n",
    "- Это пятница, в которую было мало заказов?  \n",
    "- Это праздничный день, в который было мало заказов?\n",
    "\n",
    "Подумайте, почему так вышло? Укажите этот день в том формате, в котором он представлен в данных (гггг-мм-дд)"
   ]
  },
  {
   "cell_type": "code",
   "execution_count": 14,
   "metadata": {},
   "outputs": [],
   "source": [
    "date_weekday = df_orders.loc[:,['date','weekday']].drop_duplicates()"
   ]
  },
  {
   "cell_type": "code",
   "execution_count": 15,
   "metadata": {},
   "outputs": [],
   "source": [
    "total_orders_by_day = total_orders_by_day.merge(date_weekday, on = 'date')"
   ]
  },
  {
   "cell_type": "code",
   "execution_count": 16,
   "metadata": {},
   "outputs": [
    {
     "data": {
      "image/png": "[encoded data removed]",
      "text/plain": [
       "<Figure size 720x360 with 1 Axes>"
      ]
     },
     "metadata": {},
     "output_type": "display_data"
    }
   ],
   "source": [
    "plt.figure(figsize = (10,5))\n",
    "sns.set_theme()\n",
    "sns.lineplot(data = total_orders_by_day,\\\n",
    "             x = 'date', y = 'total_orders')\n",
    "plt.title(\"Orders destribution by date\")\n",
    "plt.xticks(rotation = 90)\n",
    "plt.show()"
   ]
  },
  {
   "cell_type": "code",
   "execution_count": 17,
   "metadata": {},
   "outputs": [
    {
     "data": {
      "text/html": [
       "<div>\n",
       "<style scoped>\n",
       "    .dataframe tbody tr th:only-of-type {\n",
       "        vertical-align: middle;\n",
       "    }\n",
       "\n",
       "    .dataframe tbody tr th {\n",
       "        vertical-align: top;\n",
       "    }\n",
       "\n",
       "    .dataframe thead th {\n",
       "        text-align: right;\n",
       "    }\n",
       "</style>\n",
       "<table border=\"1\" class=\"dataframe\">\n",
       "  <thead>\n",
       "    <tr style=\"text-align: right;\">\n",
       "      <th></th>\n",
       "      <th>date</th>\n",
       "      <th>total_orders</th>\n",
       "      <th>weekday</th>\n",
       "    </tr>\n",
       "  </thead>\n",
       "  <tbody>\n",
       "    <tr>\n",
       "      <th>0</th>\n",
       "      <td>2024-03-14</td>\n",
       "      <td>437</td>\n",
       "      <td>Thursday</td>\n",
       "    </tr>\n",
       "    <tr>\n",
       "      <th>1</th>\n",
       "      <td>2024-03-13</td>\n",
       "      <td>339</td>\n",
       "      <td>Wednesday</td>\n",
       "    </tr>\n",
       "    <tr>\n",
       "      <th>2</th>\n",
       "      <td>2024-03-01</td>\n",
       "      <td>302</td>\n",
       "      <td>Friday</td>\n",
       "    </tr>\n",
       "    <tr>\n",
       "      <th>3</th>\n",
       "      <td>2024-03-29</td>\n",
       "      <td>241</td>\n",
       "      <td>Friday</td>\n",
       "    </tr>\n",
       "    <tr>\n",
       "      <th>4</th>\n",
       "      <td>2024-03-26</td>\n",
       "      <td>231</td>\n",
       "      <td>Tuesday</td>\n",
       "    </tr>\n",
       "    <tr>\n",
       "      <th>5</th>\n",
       "      <td>2024-03-15</td>\n",
       "      <td>225</td>\n",
       "      <td>Friday</td>\n",
       "    </tr>\n",
       "    <tr>\n",
       "      <th>6</th>\n",
       "      <td>2024-03-05</td>\n",
       "      <td>222</td>\n",
       "      <td>Tuesday</td>\n",
       "    </tr>\n",
       "    <tr>\n",
       "      <th>7</th>\n",
       "      <td>2024-03-20</td>\n",
       "      <td>222</td>\n",
       "      <td>Wednesday</td>\n",
       "    </tr>\n",
       "    <tr>\n",
       "      <th>8</th>\n",
       "      <td>2024-03-06</td>\n",
       "      <td>221</td>\n",
       "      <td>Wednesday</td>\n",
       "    </tr>\n",
       "    <tr>\n",
       "      <th>9</th>\n",
       "      <td>2024-03-27</td>\n",
       "      <td>203</td>\n",
       "      <td>Wednesday</td>\n",
       "    </tr>\n",
       "    <tr>\n",
       "      <th>10</th>\n",
       "      <td>2024-03-12</td>\n",
       "      <td>203</td>\n",
       "      <td>Tuesday</td>\n",
       "    </tr>\n",
       "    <tr>\n",
       "      <th>11</th>\n",
       "      <td>2024-03-07</td>\n",
       "      <td>201</td>\n",
       "      <td>Thursday</td>\n",
       "    </tr>\n",
       "    <tr>\n",
       "      <th>12</th>\n",
       "      <td>2024-03-22</td>\n",
       "      <td>191</td>\n",
       "      <td>Friday</td>\n",
       "    </tr>\n",
       "    <tr>\n",
       "      <th>13</th>\n",
       "      <td>2024-03-11</td>\n",
       "      <td>185</td>\n",
       "      <td>Monday</td>\n",
       "    </tr>\n",
       "    <tr>\n",
       "      <th>14</th>\n",
       "      <td>2024-03-19</td>\n",
       "      <td>172</td>\n",
       "      <td>Tuesday</td>\n",
       "    </tr>\n",
       "    <tr>\n",
       "      <th>15</th>\n",
       "      <td>2024-03-18</td>\n",
       "      <td>159</td>\n",
       "      <td>Monday</td>\n",
       "    </tr>\n",
       "    <tr>\n",
       "      <th>16</th>\n",
       "      <td>2024-03-28</td>\n",
       "      <td>155</td>\n",
       "      <td>Thursday</td>\n",
       "    </tr>\n",
       "    <tr>\n",
       "      <th>17</th>\n",
       "      <td>2024-03-21</td>\n",
       "      <td>152</td>\n",
       "      <td>Thursday</td>\n",
       "    </tr>\n",
       "    <tr>\n",
       "      <th>18</th>\n",
       "      <td>2024-03-04</td>\n",
       "      <td>143</td>\n",
       "      <td>Monday</td>\n",
       "    </tr>\n",
       "    <tr>\n",
       "      <th>19</th>\n",
       "      <td>2024-03-25</td>\n",
       "      <td>129</td>\n",
       "      <td>Monday</td>\n",
       "    </tr>\n",
       "    <tr>\n",
       "      <th>20</th>\n",
       "      <td>2024-03-17</td>\n",
       "      <td>43</td>\n",
       "      <td>Sunday</td>\n",
       "    </tr>\n",
       "    <tr>\n",
       "      <th>21</th>\n",
       "      <td>2024-03-23</td>\n",
       "      <td>42</td>\n",
       "      <td>Saturday</td>\n",
       "    </tr>\n",
       "    <tr>\n",
       "      <th>22</th>\n",
       "      <td>2024-03-10</td>\n",
       "      <td>35</td>\n",
       "      <td>Sunday</td>\n",
       "    </tr>\n",
       "    <tr>\n",
       "      <th>23</th>\n",
       "      <td>2024-03-24</td>\n",
       "      <td>33</td>\n",
       "      <td>Sunday</td>\n",
       "    </tr>\n",
       "    <tr>\n",
       "      <th>24</th>\n",
       "      <td>2024-03-02</td>\n",
       "      <td>30</td>\n",
       "      <td>Saturday</td>\n",
       "    </tr>\n",
       "    <tr>\n",
       "      <th>25</th>\n",
       "      <td>2024-03-16</td>\n",
       "      <td>26</td>\n",
       "      <td>Saturday</td>\n",
       "    </tr>\n",
       "    <tr>\n",
       "      <th>26</th>\n",
       "      <td>2024-03-30</td>\n",
       "      <td>20</td>\n",
       "      <td>Saturday</td>\n",
       "    </tr>\n",
       "    <tr>\n",
       "      <th>27</th>\n",
       "      <td>2024-03-09</td>\n",
       "      <td>18</td>\n",
       "      <td>Saturday</td>\n",
       "    </tr>\n",
       "    <tr>\n",
       "      <th>28</th>\n",
       "      <td>2024-03-31</td>\n",
       "      <td>10</td>\n",
       "      <td>Sunday</td>\n",
       "    </tr>\n",
       "    <tr>\n",
       "      <th>29</th>\n",
       "      <td>2024-03-03</td>\n",
       "      <td>8</td>\n",
       "      <td>Sunday</td>\n",
       "    </tr>\n",
       "    <tr>\n",
       "      <th>30</th>\n",
       "      <td>2024-03-08</td>\n",
       "      <td>5</td>\n",
       "      <td>Friday</td>\n",
       "    </tr>\n",
       "  </tbody>\n",
       "</table>\n",
       "</div>"
      ],
      "text/plain": [
       "         date  total_orders    weekday\n",
       "0  2024-03-14           437   Thursday\n",
       "1  2024-03-13           339  Wednesday\n",
       "2  2024-03-01           302     Friday\n",
       "3  2024-03-29           241     Friday\n",
       "4  2024-03-26           231    Tuesday\n",
       "5  2024-03-15           225     Friday\n",
       "6  2024-03-05           222    Tuesday\n",
       "7  2024-03-20           222  Wednesday\n",
       "8  2024-03-06           221  Wednesday\n",
       "9  2024-03-27           203  Wednesday\n",
       "10 2024-03-12           203    Tuesday\n",
       "11 2024-03-07           201   Thursday\n",
       "12 2024-03-22           191     Friday\n",
       "13 2024-03-11           185     Monday\n",
       "14 2024-03-19           172    Tuesday\n",
       "15 2024-03-18           159     Monday\n",
       "16 2024-03-28           155   Thursday\n",
       "17 2024-03-21           152   Thursday\n",
       "18 2024-03-04           143     Monday\n",
       "19 2024-03-25           129     Monday\n",
       "20 2024-03-17            43     Sunday\n",
       "21 2024-03-23            42   Saturday\n",
       "22 2024-03-10            35     Sunday\n",
       "23 2024-03-24            33     Sunday\n",
       "24 2024-03-02            30   Saturday\n",
       "25 2024-03-16            26   Saturday\n",
       "26 2024-03-30            20   Saturday\n",
       "27 2024-03-09            18   Saturday\n",
       "28 2024-03-31            10     Sunday\n",
       "29 2024-03-03             8     Sunday\n",
       "30 2024-03-08             5     Friday"
      ]
     },
     "execution_count": 17,
     "metadata": {},
     "output_type": "execute_result"
    }
   ],
   "source": [
    "total_orders_by_day"
   ]
  },
  {
   "cell_type": "markdown",
   "metadata": {},
   "source": [
    "<details>\n",
    "<summary>&#9658; Нажмите сюда, чтобы увидеть подсказку</summary>\n",
    "  <p>\n",
    "      \n",
    "Проверьте каждый из четырех предложенных поинтов: есть ли дни, соответствующие одному или нескольким поинтам? Посмотрите на график или на значения в датафрейме с количеством заказов по дням.\n",
    "      \n",
    "</p>\n",
    "</details>"
   ]
  },
  {
   "cell_type": "markdown",
   "metadata": {},
   "source": [
    "## Шаг 6"
   ]
  },
  {
   "cell_type": "markdown",
   "metadata": {},
   "source": [
    "К вам пришел радостный руководитель отдела продаж и попросил выяснить причину, почему заказы в один из дней резко подскочили, чтобы и дальше увеличивать продажи.\n",
    "\n",
    "Возможно, в день с наибольшим числом заказов (который вы определили на третьем шаге) отдел маркетинга запустил какую-то акцию? Или менеджеры стали активнее предлагать компаниям оформить заказ? Нужно подробнее изучить этот день. Начнем со статусов заказа.\n",
    "\n",
    "**Добавьте к данным о заказах информацию об их статусах. Общий датафрейм назовите `orders_status`. Сохраните получившийся датафрейм в csv файл `orders_status.csv` (при сохранении используйте параметр `index=False`) и отправьте этот csv файл на проверку в LMS.**"
   ]
  },
  {
   "cell_type": "code",
   "execution_count": 18,
   "metadata": {},
   "outputs": [],
   "source": [
    "orders_status = df_orders.merge(df_order_status, on = 'order_id')"
   ]
  },
  {
   "cell_type": "code",
   "execution_count": 19,
   "metadata": {},
   "outputs": [],
   "source": [
    "orders_status.loc[:,orders_status.columns != 'weekday'].to_csv('orders_status.csv', index = False)"
   ]
  },
  {
   "cell_type": "markdown",
   "metadata": {},
   "source": [
    "<details>\n",
    "<summary>&#9658; Нажмите сюда, чтобы увидеть подсказку</summary>\n",
    "  <p>\n",
    "      \n",
    "1) Объедините датафреймы `df_orders` и `df_order_status` в новый `orders_status`.\n",
    "      \n",
    "2) Можете вывести первые строчки нового датафрейма и посмотреть его размер, чтобы убедиться, что объединение прошло корректно.\n",
    "      \n",
    "3) Сохраните датафрейм в csv файл с помощью метода, задав его название как строку `orders_status.csv` и параметр `index=False`.\n",
    "      \n",
    "4) Скачайте получившийся csv файл из той же папки в JupyterHub, где находится ноутбук, в котором вы пишете этот код. \n",
    "      \n",
    "</p>\n",
    "</details>"
   ]
  },
  {
   "cell_type": "code",
   "execution_count": 20,
   "metadata": {},
   "outputs": [],
   "source": [
    "# Ваш код здесь\n",
    "\n"
   ]
  },
  {
   "cell_type": "markdown",
   "metadata": {},
   "source": [
    "## Шаг 7"
   ]
  },
  {
   "cell_type": "markdown",
   "metadata": {},
   "source": [
    "Посмотрите на количество и соотношение подтвержденных и отмененных заказов. **В ответе укажите долю отмененных заказов.** Ответ округлите до двух знаков после точки."
   ]
  },
  {
   "cell_type": "markdown",
   "metadata": {},
   "source": [
    "<details>\n",
    "<summary>&#9658; Нажмите сюда, чтобы увидеть подсказку</summary>\n",
    "  <p>\n",
    "      \n",
    "1) Чтобы оставить в данных только информацию о том, был заказ подтвержден или отменен, выберите из датафрейма `orders_status` колонки с номером заказа и статусом, а затем удалите дубликаты (НЕ сохраняйте результат в тот же датафрейм, потому что `orders_status` в полном виде понадобится для решения следующих заданий).\n",
    "\n",
    "2) Посчитайте частоту, с которой встречается каждый из статусов в оставшихся данных.\n",
    "\n",
    "3) Посчитайте долю каждого из статусов. Значения округлите до 2 знаков после точки.\n",
    "\n",
    "      \n",
    "</p>\n",
    "</details>"
   ]
  },
  {
   "cell_type": "code",
   "execution_count": 21,
   "metadata": {},
   "outputs": [
    {
     "data": {
      "text/plain": [
       "confirmed    0.88703\n",
       "canceled     0.11297\n",
       "Name: status, dtype: float64"
      ]
     },
     "execution_count": 21,
     "metadata": {},
     "output_type": "execute_result"
    }
   ],
   "source": [
    "orders_status.status.value_counts(normalize=True)\n"
   ]
  },
  {
   "cell_type": "markdown",
   "metadata": {},
   "source": [
    "## Шаг 8"
   ]
  },
  {
   "cell_type": "markdown",
   "metadata": {},
   "source": [
    "**Посчитайте количество подтвержденных и отмененных заказов на каждую дату.** Определите, в какой день не было ни одного подтвержденного заказа. Для этого сделайте сводную таблицу, где в строках будут даты, в колонках — стутасы заказов, а значения — число заказов с этим статусом в определенную дату. Пропуски заполните нулями.  \n",
    "\n",
    "**В ответ укажите день, когда не было ни одного подтвержденного заказа.** Дату укажите в том формате, в котором она представлена в данных (гггг-мм-дд)."
   ]
  },
  {
   "cell_type": "code",
   "execution_count": 22,
   "metadata": {},
   "outputs": [],
   "source": [
    "#??pd.pivot"
   ]
  },
  {
   "cell_type": "markdown",
   "metadata": {},
   "source": [
    "<details>\n",
    "<summary>&#9658; Нажмите сюда, чтобы увидеть подсказку</summary>\n",
    "  <p>\n",
    "      \n",
    "1) Данные в датафрейме `orders_status` сгруппируйте по дате и статусу, посчитайте количество уникальных заказов для каждой группы. Получившуюся колонку с числом заказов можете переименовать в `orders`.\n",
    "      \n",
    "2) Разверните получившийся датафрейм так, чтобы получилась сводная таблица, где в индексе — даты, в колонках — статусы, а в значениях — количество заказов. \n",
    "      \n",
    "3) Пропуски заполните нулями.\n",
    "      \n",
    "4) Из-за того, что после разворота таблицы в колонках `canceled` и `confirmed` появились пропущенные значения, тип данных в этих колонках стал `float`. Но число заказов не может быть дробным, поэтому приведите эти колонки к типу `int`.\n",
    "      \n",
    "5) Отфильтруйте строки, где значение в колонке `confirmed` равно нулю.\n",
    "      \n",
    "</p>\n",
    "</details>"
   ]
  },
  {
   "cell_type": "code",
   "execution_count": 23,
   "metadata": {},
   "outputs": [],
   "source": [
    "status_pivot = orders_status\\\n",
    ".groupby(['date', 'status'], as_index = False)\\\n",
    ".agg({\"order_id\":\"count\"})\\\n",
    ".rename(columns = {\"order_id\":\"total_orders\"})\\\n",
    ".pivot(index = 'date', columns = 'status', values = 'total_orders')\\\n",
    ".fillna(0)\n",
    "\n"
   ]
  },
  {
   "cell_type": "code",
   "execution_count": 24,
   "metadata": {},
   "outputs": [],
   "source": [
    "status_pivot = status_pivot.rename(columns = {\"canceled\": 'total_canceled', 'confirmed':\"total_confirmed\"})"
   ]
  },
  {
   "cell_type": "code",
   "execution_count": 25,
   "metadata": {
    "scrolled": true
   },
   "outputs": [
    {
     "data": {
      "text/html": [
       "<div>\n",
       "<style scoped>\n",
       "    .dataframe tbody tr th:only-of-type {\n",
       "        vertical-align: middle;\n",
       "    }\n",
       "\n",
       "    .dataframe tbody tr th {\n",
       "        vertical-align: top;\n",
       "    }\n",
       "\n",
       "    .dataframe thead th {\n",
       "        text-align: right;\n",
       "    }\n",
       "</style>\n",
       "<table border=\"1\" class=\"dataframe\">\n",
       "  <thead>\n",
       "    <tr style=\"text-align: right;\">\n",
       "      <th>status</th>\n",
       "      <th>total_canceled</th>\n",
       "      <th>total_confirmed</th>\n",
       "    </tr>\n",
       "    <tr>\n",
       "      <th>date</th>\n",
       "      <th></th>\n",
       "      <th></th>\n",
       "    </tr>\n",
       "  </thead>\n",
       "  <tbody>\n",
       "    <tr>\n",
       "      <th>2024-03-01</th>\n",
       "      <td>29.0</td>\n",
       "      <td>273.0</td>\n",
       "    </tr>\n",
       "    <tr>\n",
       "      <th>2024-03-02</th>\n",
       "      <td>0.0</td>\n",
       "      <td>30.0</td>\n",
       "    </tr>\n",
       "    <tr>\n",
       "      <th>2024-03-03</th>\n",
       "      <td>0.0</td>\n",
       "      <td>8.0</td>\n",
       "    </tr>\n",
       "    <tr>\n",
       "      <th>2024-03-04</th>\n",
       "      <td>0.0</td>\n",
       "      <td>143.0</td>\n",
       "    </tr>\n",
       "    <tr>\n",
       "      <th>2024-03-05</th>\n",
       "      <td>0.0</td>\n",
       "      <td>222.0</td>\n",
       "    </tr>\n",
       "    <tr>\n",
       "      <th>2024-03-06</th>\n",
       "      <td>12.0</td>\n",
       "      <td>209.0</td>\n",
       "    </tr>\n",
       "    <tr>\n",
       "      <th>2024-03-07</th>\n",
       "      <td>5.0</td>\n",
       "      <td>196.0</td>\n",
       "    </tr>\n",
       "    <tr>\n",
       "      <th>2024-03-08</th>\n",
       "      <td>0.0</td>\n",
       "      <td>5.0</td>\n",
       "    </tr>\n",
       "    <tr>\n",
       "      <th>2024-03-09</th>\n",
       "      <td>18.0</td>\n",
       "      <td>0.0</td>\n",
       "    </tr>\n",
       "    <tr>\n",
       "      <th>2024-03-10</th>\n",
       "      <td>12.0</td>\n",
       "      <td>23.0</td>\n",
       "    </tr>\n",
       "    <tr>\n",
       "      <th>2024-03-11</th>\n",
       "      <td>17.0</td>\n",
       "      <td>168.0</td>\n",
       "    </tr>\n",
       "    <tr>\n",
       "      <th>2024-03-12</th>\n",
       "      <td>31.0</td>\n",
       "      <td>172.0</td>\n",
       "    </tr>\n",
       "    <tr>\n",
       "      <th>2024-03-13</th>\n",
       "      <td>263.0</td>\n",
       "      <td>76.0</td>\n",
       "    </tr>\n",
       "    <tr>\n",
       "      <th>2024-03-14</th>\n",
       "      <td>0.0</td>\n",
       "      <td>437.0</td>\n",
       "    </tr>\n",
       "    <tr>\n",
       "      <th>2024-03-15</th>\n",
       "      <td>16.0</td>\n",
       "      <td>209.0</td>\n",
       "    </tr>\n",
       "    <tr>\n",
       "      <th>2024-03-16</th>\n",
       "      <td>0.0</td>\n",
       "      <td>26.0</td>\n",
       "    </tr>\n",
       "    <tr>\n",
       "      <th>2024-03-17</th>\n",
       "      <td>0.0</td>\n",
       "      <td>43.0</td>\n",
       "    </tr>\n",
       "    <tr>\n",
       "      <th>2024-03-18</th>\n",
       "      <td>0.0</td>\n",
       "      <td>159.0</td>\n",
       "    </tr>\n",
       "    <tr>\n",
       "      <th>2024-03-19</th>\n",
       "      <td>22.0</td>\n",
       "      <td>150.0</td>\n",
       "    </tr>\n",
       "    <tr>\n",
       "      <th>2024-03-20</th>\n",
       "      <td>37.0</td>\n",
       "      <td>185.0</td>\n",
       "    </tr>\n",
       "    <tr>\n",
       "      <th>2024-03-21</th>\n",
       "      <td>31.0</td>\n",
       "      <td>121.0</td>\n",
       "    </tr>\n",
       "    <tr>\n",
       "      <th>2024-03-22</th>\n",
       "      <td>0.0</td>\n",
       "      <td>191.0</td>\n",
       "    </tr>\n",
       "    <tr>\n",
       "      <th>2024-03-23</th>\n",
       "      <td>0.0</td>\n",
       "      <td>42.0</td>\n",
       "    </tr>\n",
       "    <tr>\n",
       "      <th>2024-03-24</th>\n",
       "      <td>0.0</td>\n",
       "      <td>33.0</td>\n",
       "    </tr>\n",
       "    <tr>\n",
       "      <th>2024-03-25</th>\n",
       "      <td>13.0</td>\n",
       "      <td>116.0</td>\n",
       "    </tr>\n",
       "    <tr>\n",
       "      <th>2024-03-26</th>\n",
       "      <td>14.0</td>\n",
       "      <td>217.0</td>\n",
       "    </tr>\n",
       "    <tr>\n",
       "      <th>2024-03-27</th>\n",
       "      <td>0.0</td>\n",
       "      <td>203.0</td>\n",
       "    </tr>\n",
       "    <tr>\n",
       "      <th>2024-03-28</th>\n",
       "      <td>0.0</td>\n",
       "      <td>155.0</td>\n",
       "    </tr>\n",
       "    <tr>\n",
       "      <th>2024-03-29</th>\n",
       "      <td>0.0</td>\n",
       "      <td>241.0</td>\n",
       "    </tr>\n",
       "    <tr>\n",
       "      <th>2024-03-30</th>\n",
       "      <td>0.0</td>\n",
       "      <td>20.0</td>\n",
       "    </tr>\n",
       "    <tr>\n",
       "      <th>2024-03-31</th>\n",
       "      <td>0.0</td>\n",
       "      <td>10.0</td>\n",
       "    </tr>\n",
       "  </tbody>\n",
       "</table>\n",
       "</div>"
      ],
      "text/plain": [
       "status      total_canceled  total_confirmed\n",
       "date                                       \n",
       "2024-03-01            29.0            273.0\n",
       "2024-03-02             0.0             30.0\n",
       "2024-03-03             0.0              8.0\n",
       "2024-03-04             0.0            143.0\n",
       "2024-03-05             0.0            222.0\n",
       "2024-03-06            12.0            209.0\n",
       "2024-03-07             5.0            196.0\n",
       "2024-03-08             0.0              5.0\n",
       "2024-03-09            18.0              0.0\n",
       "2024-03-10            12.0             23.0\n",
       "2024-03-11            17.0            168.0\n",
       "2024-03-12            31.0            172.0\n",
       "2024-03-13           263.0             76.0\n",
       "2024-03-14             0.0            437.0\n",
       "2024-03-15            16.0            209.0\n",
       "2024-03-16             0.0             26.0\n",
       "2024-03-17             0.0             43.0\n",
       "2024-03-18             0.0            159.0\n",
       "2024-03-19            22.0            150.0\n",
       "2024-03-20            37.0            185.0\n",
       "2024-03-21            31.0            121.0\n",
       "2024-03-22             0.0            191.0\n",
       "2024-03-23             0.0             42.0\n",
       "2024-03-24             0.0             33.0\n",
       "2024-03-25            13.0            116.0\n",
       "2024-03-26            14.0            217.0\n",
       "2024-03-27             0.0            203.0\n",
       "2024-03-28             0.0            155.0\n",
       "2024-03-29             0.0            241.0\n",
       "2024-03-30             0.0             20.0\n",
       "2024-03-31             0.0             10.0"
      ]
     },
     "execution_count": 25,
     "metadata": {},
     "output_type": "execute_result"
    }
   ],
   "source": [
    "status_pivot"
   ]
  },
  {
   "cell_type": "markdown",
   "metadata": {},
   "source": [
    "## Шаг 9"
   ]
  },
  {
   "cell_type": "markdown",
   "metadata": {},
   "source": [
    "**Постройте график с заказами по дням в разбивке по статусу заказа.** Посмотрим подробнее на день с наибольшим числом заказов (вместе и подтвержденных, и отменных), который мы определили ранее, и на день, предшествующий ему. Какой вывод можно сделать? Выберите один или несколько вариантов:\n",
    "\n",
    "- В день с наибольшим числом заказов было очень много отмен  \n",
    "- В день с наибольшим числом заказов было много успешно оформленных заказов  \n",
    "- В день, предшествующий дню с наибольшим числом заказов, было много отмен  \n",
    "- В день, предшествующий дню с наибольшим числом заказов, было много успешно оформленных заказов  \n",
    "- В день, предшествующий дню с наибольшим числом заказов, не было ни одного успешно оформленного заказа  \n",
    "- В день, предшествующий дню с наибольшим числом заказов, не было ни одного отмененного заказа"
   ]
  },
  {
   "cell_type": "code",
   "execution_count": 26,
   "metadata": {},
   "outputs": [
    {
     "data": {
      "image/png": "[encoded data removed]",
      "text/plain": [
       "<Figure size 1440x216 with 1 Axes>"
      ]
     },
     "metadata": {},
     "output_type": "display_data"
    }
   ],
   "source": [
    "\"\"\"plt.figure(figsize = (10,5))\n",
    "sns.set_theme()\n",
    "sns.lineplot(data = status_pivot, x = 'date', y = 'total_canceled')\n",
    "sns.lineplot(data = status_pivot, x = 'date', y = 'total_confirmed')\n",
    "plt.title(\"Orders' types destribution by date\")\n",
    "plt.xticks(rotation = 90)\n",
    "plt.show()\"\"\"\n",
    "plt.figure(figsize = (20,3))\n",
    "sns.set_theme()\n",
    "sns.lineplot(data = status_pivot)\n",
    "sns.lineplot(data = total_orders_by_day, x = 'date', y = 'total_orders', label = 'total', color = 'red')\n",
    "plt.title(\"Orders' types destribution by date\")\n",
    "plt.xticks(rotation = 90)\n",
    "plt.ylabel(\"total_orders\")\n",
    "plt.show()"
   ]
  },
  {
   "cell_type": "markdown",
   "metadata": {},
   "source": [
    "<details>\n",
    "<summary>&#9658; Нажмите сюда, чтобы увидеть подсказку</summary>\n",
    "  <p>\n",
    "      \n",
    "Постройте линейный график, где по оси `х` будут идти даты, по оси `у` — количество заказов, а цвета линий будут определены статусами заказов. Если метки с датами наползают друг на друга, поверните их под углом 45 градусов.\n",
    "\n",
    "</p>\n",
    "</details>"
   ]
  },
  {
   "cell_type": "markdown",
   "metadata": {},
   "source": [
    "## Шаг 10"
   ]
  },
  {
   "cell_type": "markdown",
   "metadata": {},
   "source": [
    "Рассмотрим эти два дня отдельно (день с наибольшим числом заказов, который мы определили ранее, и день, предшествующий ему). Проанализируйте заказы за эти дни и ответьте, какую из этих гипотез можно назвать наиболее правдоподобной.\n",
    "\n",
    "- Так сложилось, что один день оказался крайне неудачным для отдела продаж, все клиенты отменили свои заказы. А на следующий день отдел продаж пытался компенсировать отсутствие продаж в предыдущий и перевыполнил дневной план. Почти все заказы не повторяют вчерашние  \n",
    "- Произошел сбой в работе CRM системы, который не позволил клиентам подтвердить заказ. В результате все созданные в первый день заказы автоматически отменились, поэтому клиентам пришлось оформлять их повторно на следующий день. Почти половина заказов повторяет вчерашние\n",
    "\n",
    "Как можно определить, что заказ повторяет вчерашний? У заказов будут совпадать сразу несколько параметров: клиент, менеджер, количество уникальных товаров в заказе и общее число товаров в штуках. Но номера заказов будут разными."
   ]
  },
  {
   "cell_type": "code",
   "execution_count": 27,
   "metadata": {},
   "outputs": [
    {
     "data": {
      "text/plain": [
       "1    330\n",
       "2    223\n",
       "Name: total_orders, dtype: int64"
      ]
     },
     "execution_count": 27,
     "metadata": {},
     "output_type": "execute_result"
    }
   ],
   "source": [
    "orders_status.query(\"(date == '2024-03-14') or (date == '2024-03-13')\")\\\n",
    ".groupby(['client_id', 'manager', 'quantity', 'product_id'] ,as_index = False)\\\n",
    ".agg({\"order_id\":'count'})\\\n",
    ".rename(columns = {\"order_id\":'total_orders'})\\\n",
    ".sort_values(by = 'total_orders', ascending = False)\\\n",
    ".total_orders.value_counts()"
   ]
  },
  {
   "cell_type": "markdown",
   "metadata": {},
   "source": [
    "<details>\n",
    "<summary>&#9658; Нажмите сюда, чтобы увидеть подсказку</summary>\n",
    "  <p>\n",
    "      \n",
    "1) Отберите все отмененные заказы 13 марта и для каждого заказа агрегируйте данные: посчитайте количество уникальных товаров в нем, сумму единиц всех товаров, а также возьмите менеджера и клиента (примените к соответствующим колонкам функции `max`).\n",
    "      \n",
    "2) Отберите все подтвержденные заказы 14 марта и для каждого заказа агрегируйте данные: посчитайте количество уникальных товаров в нем, сумму единиц всех товаров, а также возьмите менеджера и клиента (примените к соответствующим колонкам функции `max`).\n",
    "      \n",
    "3) Объедините эти датафреймы с заказами по совпадающим характеристикам: имя менеджера, id клиента, число уникальных товаров в заказе и общее число товаров в штуках. Так у вас получатся те заказы, которые отменили в первый день и оформили заново на следующий.\n",
    "      \n",
    "4) Посчитайте число строк в датафрейме с заказами, которые отменили в первый день и оформили заново на следующий. Разделите это число на число строк в датафрейме с подтвержденными заказами 14 марта. Так вы узнаете долю заказов, которые повторяют вчерашние.\n",
    "      \n",
    "</p>\n",
    "</details>"
   ]
  },
  {
   "cell_type": "code",
   "execution_count": 28,
   "metadata": {},
   "outputs": [],
   "source": [
    "# Ваш код здесь\n",
    "\n"
   ]
  },
  {
   "cell_type": "markdown",
   "metadata": {},
   "source": [
    "### Посчитаем ключевые метрики, посмотрим на их динамику и составим небольшой отчет"
   ]
  },
  {
   "cell_type": "markdown",
   "metadata": {},
   "source": [
    "## Шаг 11"
   ]
  },
  {
   "cell_type": "markdown",
   "metadata": {},
   "source": [
    "**У вас есть данные за целый месяц, поэтому пора посчитать ключевые метрики этого месяца.** Но вот незадача - в ваших данных цена единицы товара указана в долларах США, потому что закупаете их в долларах, но продаете товары за российские рубли (по тому курсу, который установил Центробанк на дату продажи), а значит и метрики требуется посчитать в рублях. Хорошо, что у вас есть текстовый файл с курсом доллара США на каждую дату. **Откройте файл `usd_rate.txt`, соберите из него датафрейм с 2 колонками: `date` и `currency_rate`. Посчитайте среднее значение курса доллара за месяц.** Результат округлите до двух знаков после точки."
   ]
  },
  {
   "cell_type": "markdown",
   "metadata": {},
   "source": [
    "<details>\n",
    "<summary>&#9658; Нажмите сюда, чтобы увидеть подсказку</summary>\n",
    "  <p>\n",
    "      \n",
    "1) Откройте файл `usd_rate.txt` с помощью контекстного менеджера `with` и функции `open()`. Список строк сохраните в переменную `currency`.\n",
    "      \n",
    "2) С помощью функции `pd.DataFrame(columns=['col_name'])` создайте из списка датафрейм с любым названием единственной колонки.\n",
    "      \n",
    "3) На основе имеющейся колонки создайте колонки `date` и `currency_rate`, куда положите соответствующие данные. Для этого разделите общую строку со всеми данными и возьмите нужные данные по индексу.\n",
    "      \n",
    "4) Переведите колонку `date` в тип `datetime`.\n",
    "      \n",
    "5) Удалите из датафрейма ненужную колонку с общими данными.\n",
    "      \n",
    "6) Посчитайте среднее значение курса доллара за месяц.\n",
    "      \n",
    "7) Результат округлите до двух знаков после точки.   \n",
    "      \n",
    "</p>\n",
    "</details>"
   ]
  },
  {
   "cell_type": "code",
   "execution_count": 29,
   "metadata": {},
   "outputs": [],
   "source": [
    "usd_rates = pd.read_csv(\"usd_rate.txt\", header = None)\\\n",
    ".iloc[:,0:2]\\\n",
    ".rename(columns = {0:\"date\", 1:\"currency_rate\"})\n",
    "\n"
   ]
  },
  {
   "cell_type": "code",
   "execution_count": 30,
   "metadata": {},
   "outputs": [
    {
     "data": {
      "text/plain": [
       "91.69706451612903"
      ]
     },
     "execution_count": 30,
     "metadata": {},
     "output_type": "execute_result"
    }
   ],
   "source": [
    "usd_rates.currency_rate.mean()"
   ]
  },
  {
   "cell_type": "code",
   "execution_count": 31,
   "metadata": {},
   "outputs": [],
   "source": [
    "usd_rates.date = pd.to_datetime(usd_rates.date) "
   ]
  },
  {
   "cell_type": "markdown",
   "metadata": {},
   "source": [
    "## Шаг 12"
   ]
  },
  {
   "cell_type": "markdown",
   "metadata": {},
   "source": [
    "**Работу с ключевыми метриками начните с подсчета общей выручки.** Данные по товарам в подтвержденных заказах у вас есть в датафрейме `orders_status`, а стоимость одной единицы товара можно взять из датафрейма `df_products`. Объедините эти датафреймы в общий `df_full`, добавьте к ним информацию по курсу доллара на каждую дату. Создайте колонку с выручкой для каждого товара в заказах и посчитайте, **чему равна общая выручка в рублях?** Учитывайте только подтвержденные заказы. Результат округлите до двух знаков после точки."
   ]
  },
  {
   "cell_type": "code",
   "execution_count": 32,
   "metadata": {},
   "outputs": [
    {
     "data": {
      "text/html": [
       "<div>\n",
       "<style scoped>\n",
       "    .dataframe tbody tr th:only-of-type {\n",
       "        vertical-align: middle;\n",
       "    }\n",
       "\n",
       "    .dataframe tbody tr th {\n",
       "        vertical-align: top;\n",
       "    }\n",
       "\n",
       "    .dataframe thead th {\n",
       "        text-align: right;\n",
       "    }\n",
       "</style>\n",
       "<table border=\"1\" class=\"dataframe\">\n",
       "  <thead>\n",
       "    <tr style=\"text-align: right;\">\n",
       "      <th></th>\n",
       "      <th>order_id</th>\n",
       "      <th>product_id</th>\n",
       "      <th>quantity</th>\n",
       "      <th>manager</th>\n",
       "      <th>date</th>\n",
       "      <th>weekday</th>\n",
       "      <th>client_id</th>\n",
       "      <th>status</th>\n",
       "    </tr>\n",
       "  </thead>\n",
       "  <tbody>\n",
       "    <tr>\n",
       "      <th>0</th>\n",
       "      <td>QPLK-54839036</td>\n",
       "      <td>489</td>\n",
       "      <td>11</td>\n",
       "      <td>Владимир Ударников</td>\n",
       "      <td>2024-03-10</td>\n",
       "      <td>Sunday</td>\n",
       "      <td>52</td>\n",
       "      <td>confirmed</td>\n",
       "    </tr>\n",
       "    <tr>\n",
       "      <th>1</th>\n",
       "      <td>QPLK-54839036</td>\n",
       "      <td>594</td>\n",
       "      <td>6</td>\n",
       "      <td>Владимир Ударников</td>\n",
       "      <td>2024-03-10</td>\n",
       "      <td>Sunday</td>\n",
       "      <td>52</td>\n",
       "      <td>confirmed</td>\n",
       "    </tr>\n",
       "    <tr>\n",
       "      <th>2</th>\n",
       "      <td>QPLK-54839036</td>\n",
       "      <td>670</td>\n",
       "      <td>16</td>\n",
       "      <td>Владимир Ударников</td>\n",
       "      <td>2024-03-10</td>\n",
       "      <td>Sunday</td>\n",
       "      <td>52</td>\n",
       "      <td>confirmed</td>\n",
       "    </tr>\n",
       "    <tr>\n",
       "      <th>3</th>\n",
       "      <td>QPLK-54839036</td>\n",
       "      <td>469</td>\n",
       "      <td>9</td>\n",
       "      <td>Владимир Ударников</td>\n",
       "      <td>2024-03-10</td>\n",
       "      <td>Sunday</td>\n",
       "      <td>52</td>\n",
       "      <td>confirmed</td>\n",
       "    </tr>\n",
       "    <tr>\n",
       "      <th>4</th>\n",
       "      <td>QPLK-54839036</td>\n",
       "      <td>1302</td>\n",
       "      <td>5</td>\n",
       "      <td>Владимир Ударников</td>\n",
       "      <td>2024-03-10</td>\n",
       "      <td>Sunday</td>\n",
       "      <td>52</td>\n",
       "      <td>confirmed</td>\n",
       "    </tr>\n",
       "  </tbody>\n",
       "</table>\n",
       "</div>"
      ],
      "text/plain": [
       "        order_id  product_id  quantity             manager       date weekday  \\\n",
       "0  QPLK-54839036         489        11  Владимир Ударников 2024-03-10  Sunday   \n",
       "1  QPLK-54839036         594         6  Владимир Ударников 2024-03-10  Sunday   \n",
       "2  QPLK-54839036         670        16  Владимир Ударников 2024-03-10  Sunday   \n",
       "3  QPLK-54839036         469         9  Владимир Ударников 2024-03-10  Sunday   \n",
       "4  QPLK-54839036        1302         5  Владимир Ударников 2024-03-10  Sunday   \n",
       "\n",
       "   client_id     status  \n",
       "0         52  confirmed  \n",
       "1         52  confirmed  \n",
       "2         52  confirmed  \n",
       "3         52  confirmed  \n",
       "4         52  confirmed  "
      ]
     },
     "execution_count": 32,
     "metadata": {},
     "output_type": "execute_result"
    }
   ],
   "source": [
    "orders_status.head()"
   ]
  },
  {
   "cell_type": "code",
   "execution_count": 33,
   "metadata": {},
   "outputs": [],
   "source": [
    "df_full = orders_status\\\n",
    ".merge(df_products, left_on = 'product_id', right_on = 'id')\\\n",
    ".merge(usd_rates, on = 'date')"
   ]
  },
  {
   "cell_type": "markdown",
   "metadata": {},
   "source": [
    "<details>\n",
    "<summary>&#9658; Нажмите сюда, чтобы увидеть подсказку</summary>\n",
    "  <p>\n",
    "      \n",
    "1) Присоедините к датафрейму `orders_status` датафрейм `df_products`, указав, что ключом в левом датафрейме будет являться колонка `product_id` (параметр `left_on`), а в правом — колонка `id` (параметр `right_on`). Новый датафрейм сохраните в `df_full`.\n",
    "      \n",
    "2) К датафрейму `df_full` добавьте информацию о курсе доллара на каждую дату, присоединив датафрейм `df_currency` по общей колонке с датой.\n",
    "      \n",
    "3) Создайте колонку `price_rub` с ценами в рублях. Для этого умножьте значения в колонке `price` с ценами на значения в колонке `currency_rate` с курсом валюты.\n",
    "      \n",
    "4) Создайте колонку `revenue` с выручкой, умножив колонку со стоимостью единицы товара в рублях на колонку с количеством товара.\n",
    "      \n",
    "5) Отберите только записи с подтвержденными заказами и сохраните результат в датафрейм `df_confirmed`, он вам ещё пригодится.\n",
    "      \n",
    "6) Суммируйте значения в колонке `revenue` и округлите результат до двух знаков после точки.\n",
    "      \n",
    "</p>\n",
    "</details>"
   ]
  },
  {
   "cell_type": "code",
   "execution_count": 34,
   "metadata": {},
   "outputs": [],
   "source": [
    "df_full['revenue'] = (df_full['quantity']*df_full['price']*df_full['currency_rate'])"
   ]
  },
  {
   "cell_type": "code",
   "execution_count": 35,
   "metadata": {},
   "outputs": [
    {
     "data": {
      "text/plain": [
       "2038231821.564864"
      ]
     },
     "execution_count": 35,
     "metadata": {},
     "output_type": "execute_result"
    }
   ],
   "source": [
    "df_full.query(\"status == 'confirmed'\").revenue.sum()"
   ]
  },
  {
   "cell_type": "code",
   "execution_count": 36,
   "metadata": {},
   "outputs": [],
   "source": [
    "df_confirmed = df_full.query(\"status == 'confirmed'\")"
   ]
  },
  {
   "cell_type": "markdown",
   "metadata": {},
   "source": [
    "## Шаг 13"
   ]
  },
  {
   "cell_type": "markdown",
   "metadata": {},
   "source": [
    "**Следующая метрика, которую вам нужно посчитать — средний чек в этом месяце (в рублях).** Разделите общую выручку на количество заказов. Результат округлите до двух знаков после точки."
   ]
  },
  {
   "cell_type": "markdown",
   "metadata": {},
   "source": [
    "<details>\n",
    "<summary>&#9658; Нажмите сюда, чтобы увидеть подсказку</summary>\n",
    "  <p>\n",
    "      \n",
    "1) Посчитайте число уникальных подтвержденных заказов.\n",
    "\n",
    "2) Разделите сумму выручки, посчитанную на прошлом шаге (без округления), на это число.\n",
    "\n",
    "3) Результат округлите до двух знаков после точки.  \n",
    "      \n",
    "</p>\n",
    "</details>"
   ]
  },
  {
   "cell_type": "code",
   "execution_count": 37,
   "metadata": {
    "scrolled": true
   },
   "outputs": [
    {
     "data": {
      "text/plain": [
       "6596219.487264932"
      ]
     },
     "execution_count": 37,
     "metadata": {},
     "output_type": "execute_result"
    }
   ],
   "source": [
    "df_full.query(\"status == 'confirmed'\").revenue.sum()/ df_full.query(\"status == 'confirmed'\").order_id.nunique()\n"
   ]
  },
  {
   "cell_type": "markdown",
   "metadata": {},
   "source": [
    "## Шаг 14"
   ]
  },
  {
   "cell_type": "markdown",
   "metadata": {},
   "source": [
    "Ключевые метрики месяца вы посчитали, теперь попробуйте посмотреть на их динамику внутри месяца: посчитайте выручку, средний чек и число заказов — на каждый день. Посмотрите на графики и выберите верные ответы:\n",
    "\n",
    "- число заказов и выручка каждый день изменяются в одинаковом направлении (если в этот день число заказов выросло, то и выручка выросла; число заказов упало — в этот же день упала и выручка)  \n",
    "- число заказов и выручка не каждый день изменяются в одинаковом направлении (если в какой-то день число заказов выросло, то выручка может упасть, и наоборот: число заказов упало — в этот же день выручка выросла)  \n",
    "- средний чек и выручка каждый день изменяются в одинаковом направлении (если в этот день средний чек вырос, то и выручка выросла; средний чек упал — в этот же день упала и выручка)  \n",
    "- средний чек и выручка не каждый день изменяются в одинаковом направлении (если в какой-то день средний чек вырос, то выручка может упасть, и наоборот: средний чек упал — в этот же день выручка выросла)  \n",
    "- в день с наибольшим числом заказов и выручка, и средний чек также показывают максимальное значение  \n",
    "- в день с наибольшим числом заказов выручка и/или средний чек не показывают максимальное значение  \n",
    "- с течением времени выручка то увеличивается, то уменьшается  \n",
    "- с течением времени выручка только увеличивается  \n",
    "- на протяжении всего месяца средний чек то увеличивается, то уменьшается  \n",
    "- средний чек на протяжении всего месяца имеет одинаковое значение"
   ]
  },
  {
   "cell_type": "markdown",
   "metadata": {},
   "source": [
    "<details>\n",
    "<summary>&#9658; Нажмите сюда, чтобы увидеть подсказку</summary>\n",
    "  <p>\n",
    "      \n",
    "1) Сгруппируйте датафрейм `df_confirmed` с подтвержденными заказами по дате и посчитайте на каждую дату число ункальных заказов и выручку. Результат сохраните в датафрейм `df_report_by_date`. Получившуюся колонку с числом заказов можете переименовать в `orders`. \n",
    "      \n",
    "2) Создайте колонку со значением среднего чека в каждую дату, для этого разделите значения в колонке с выручкой на значения в колонке с числом заказов. Результат округлите до двух знаков после точки\n",
    "      \n",
    "3) Постройте три линейных графика, один под другим (в одной ячейке или в разных)\n",
    "      \n",
    "</p>\n",
    "</details>"
   ]
  },
  {
   "cell_type": "code",
   "execution_count": 38,
   "metadata": {},
   "outputs": [],
   "source": [
    "metrics_by_date = df_full\\\n",
    ".groupby([\"date\",'order_id'], as_index = False)\\\n",
    ".agg({'revenue':\"sum\"})\\\n",
    ".reset_index(drop = True)\\\n",
    ".groupby('date', as_index = False)\\\n",
    ".agg({'revenue':[\"sum\", 'mean'], 'order_id':pd.Series.nunique})"
   ]
  },
  {
   "cell_type": "code",
   "execution_count": 39,
   "metadata": {},
   "outputs": [
    {
     "data": {
      "text/html": [
       "<div>\n",
       "<style scoped>\n",
       "    .dataframe tbody tr th:only-of-type {\n",
       "        vertical-align: middle;\n",
       "    }\n",
       "\n",
       "    .dataframe tbody tr th {\n",
       "        vertical-align: top;\n",
       "    }\n",
       "\n",
       "    .dataframe thead tr th {\n",
       "        text-align: left;\n",
       "    }\n",
       "</style>\n",
       "<table border=\"1\" class=\"dataframe\">\n",
       "  <thead>\n",
       "    <tr>\n",
       "      <th></th>\n",
       "      <th>date</th>\n",
       "      <th colspan=\"2\" halign=\"left\">revenue</th>\n",
       "      <th>order_id</th>\n",
       "    </tr>\n",
       "    <tr>\n",
       "      <th></th>\n",
       "      <th></th>\n",
       "      <th>sum</th>\n",
       "      <th>mean</th>\n",
       "      <th>nunique</th>\n",
       "    </tr>\n",
       "  </thead>\n",
       "  <tbody>\n",
       "    <tr>\n",
       "      <th>0</th>\n",
       "      <td>2024-03-01</td>\n",
       "      <td>1.677811e+08</td>\n",
       "      <td>7.626412e+06</td>\n",
       "      <td>22</td>\n",
       "    </tr>\n",
       "    <tr>\n",
       "      <th>1</th>\n",
       "      <td>2024-03-02</td>\n",
       "      <td>1.197167e+07</td>\n",
       "      <td>5.985834e+06</td>\n",
       "      <td>2</td>\n",
       "    </tr>\n",
       "    <tr>\n",
       "      <th>2</th>\n",
       "      <td>2024-03-03</td>\n",
       "      <td>2.548418e+06</td>\n",
       "      <td>2.548418e+06</td>\n",
       "      <td>1</td>\n",
       "    </tr>\n",
       "    <tr>\n",
       "      <th>3</th>\n",
       "      <td>2024-03-04</td>\n",
       "      <td>6.404993e+07</td>\n",
       "      <td>6.404993e+06</td>\n",
       "      <td>10</td>\n",
       "    </tr>\n",
       "    <tr>\n",
       "      <th>4</th>\n",
       "      <td>2024-03-05</td>\n",
       "      <td>8.952724e+07</td>\n",
       "      <td>4.973735e+06</td>\n",
       "      <td>18</td>\n",
       "    </tr>\n",
       "  </tbody>\n",
       "</table>\n",
       "</div>"
      ],
      "text/plain": [
       "        date       revenue               order_id\n",
       "                       sum          mean  nunique\n",
       "0 2024-03-01  1.677811e+08  7.626412e+06       22\n",
       "1 2024-03-02  1.197167e+07  5.985834e+06        2\n",
       "2 2024-03-03  2.548418e+06  2.548418e+06        1\n",
       "3 2024-03-04  6.404993e+07  6.404993e+06       10\n",
       "4 2024-03-05  8.952724e+07  4.973735e+06       18"
      ]
     },
     "execution_count": 39,
     "metadata": {},
     "output_type": "execute_result"
    }
   ],
   "source": [
    "metrics_by_date.head()"
   ]
  },
  {
   "cell_type": "code",
   "execution_count": 40,
   "metadata": {},
   "outputs": [],
   "source": [
    "metrics_by_date = metrics_by_date.droplevel(0, axis=1).rename_axis(None, axis=1)\n"
   ]
  },
  {
   "cell_type": "code",
   "execution_count": 41,
   "metadata": {},
   "outputs": [],
   "source": [
    "metrics_by_date = metrics_by_date.rename(columns={metrics_by_date.columns[0]: 'date'})"
   ]
  },
  {
   "cell_type": "code",
   "execution_count": 42,
   "metadata": {},
   "outputs": [],
   "source": [
    "metrics_by_date[[\"sum\", \"mean\"]] = metrics_by_date[[\"sum\", \"mean\"]].apply(lambda x: round(x,1))"
   ]
  },
  {
   "cell_type": "code",
   "execution_count": 43,
   "metadata": {},
   "outputs": [
    {
     "data": {
      "text/html": [
       "<div>\n",
       "<style scoped>\n",
       "    .dataframe tbody tr th:only-of-type {\n",
       "        vertical-align: middle;\n",
       "    }\n",
       "\n",
       "    .dataframe tbody tr th {\n",
       "        vertical-align: top;\n",
       "    }\n",
       "\n",
       "    .dataframe thead th {\n",
       "        text-align: right;\n",
       "    }\n",
       "</style>\n",
       "<table border=\"1\" class=\"dataframe\">\n",
       "  <thead>\n",
       "    <tr style=\"text-align: right;\">\n",
       "      <th></th>\n",
       "      <th>date</th>\n",
       "      <th>sum</th>\n",
       "      <th>mean</th>\n",
       "      <th>nunique</th>\n",
       "    </tr>\n",
       "  </thead>\n",
       "  <tbody>\n",
       "    <tr>\n",
       "      <th>0</th>\n",
       "      <td>2024-03-01</td>\n",
       "      <td>167781069.7</td>\n",
       "      <td>7626412.3</td>\n",
       "      <td>22</td>\n",
       "    </tr>\n",
       "    <tr>\n",
       "      <th>1</th>\n",
       "      <td>2024-03-02</td>\n",
       "      <td>11971668.5</td>\n",
       "      <td>5985834.3</td>\n",
       "      <td>2</td>\n",
       "    </tr>\n",
       "    <tr>\n",
       "      <th>2</th>\n",
       "      <td>2024-03-03</td>\n",
       "      <td>2548418.4</td>\n",
       "      <td>2548418.4</td>\n",
       "      <td>1</td>\n",
       "    </tr>\n",
       "    <tr>\n",
       "      <th>3</th>\n",
       "      <td>2024-03-04</td>\n",
       "      <td>64049925.6</td>\n",
       "      <td>6404992.6</td>\n",
       "      <td>10</td>\n",
       "    </tr>\n",
       "    <tr>\n",
       "      <th>4</th>\n",
       "      <td>2024-03-05</td>\n",
       "      <td>89527238.2</td>\n",
       "      <td>4973735.5</td>\n",
       "      <td>18</td>\n",
       "    </tr>\n",
       "  </tbody>\n",
       "</table>\n",
       "</div>"
      ],
      "text/plain": [
       "        date          sum       mean  nunique\n",
       "0 2024-03-01  167781069.7  7626412.3       22\n",
       "1 2024-03-02   11971668.5  5985834.3        2\n",
       "2 2024-03-03    2548418.4  2548418.4        1\n",
       "3 2024-03-04   64049925.6  6404992.6       10\n",
       "4 2024-03-05   89527238.2  4973735.5       18"
      ]
     },
     "execution_count": 43,
     "metadata": {},
     "output_type": "execute_result"
    }
   ],
   "source": [
    "metrics_by_date.head()"
   ]
  },
  {
   "cell_type": "code",
   "execution_count": 44,
   "metadata": {},
   "outputs": [
    {
     "data": {
      "image/png": "[encoded data removed]",
      "text/plain": [
       "<Figure size 1440x864 with 3 Axes>"
      ]
     },
     "metadata": {},
     "output_type": "display_data"
    }
   ],
   "source": [
    "sns.set_theme()\n",
    "fig, ax = plt.subplots(3,1,figsize = (20,12), constrained_layout = True)\n",
    "sns.lineplot(data = metrics_by_date, x = 'date', y = 'nunique', ax = ax[0])\n",
    "ax[0].set_title(\"Number of orders destribution by date\")\n",
    "ax[0].tick_params(labelrotation=45)\n",
    "sns.lineplot(data = metrics_by_date, x = 'date', y = 'sum', ax = ax[1])\n",
    "ax[1].set_title(\"Total revenue destribution by date\")\n",
    "ax[1].tick_params(labelrotation=45)\n",
    "sns.lineplot(data = metrics_by_date, x = 'date', y = 'mean', ax = ax[2])\n",
    "ax[2].set_title(\"Average revenue per order destribution by date\")\n",
    "ax[2].tick_params(labelrotation=45)\n",
    "plt.show()"
   ]
  },
  {
   "cell_type": "markdown",
   "metadata": {},
   "source": [
    "## Шаг 15"
   ]
  },
  {
   "cell_type": "markdown",
   "metadata": {},
   "source": [
    "К вам снова обратился руководитель отдела продаж. Он хочет разобраться, какие бренды востребованы среди клиентов, а какие — нет. На основе данных о названиях товаров в датафрейме `df_full` создайте новую колонку `brand`, где будет только название бренда. **Посчитайте, сколькими брендами интересовались клиенты** (статус заказа здесь не важен, если запись о бренде попала в данные о заказах, значит клиент заказал или хотел заказать товар этого бренда)."
   ]
  },
  {
   "cell_type": "markdown",
   "metadata": {},
   "source": [
    "<details>\n",
    "<summary>&#9658; Нажмите сюда, чтобы увидеть подсказку</summary>\n",
    "  <p>\n",
    "      \n",
    "1) В датафрейме `df_full` создайте новую колонку `brand`, в которую поместите только названия брендов. Для этого разделите значения в колонке name и возьмите первое из них (сначала идет бренд и через запятую модель товара).\n",
    "\n",
    "2) Посчитайте количество уникальных значений в колонке `brand`.\n",
    "      \n",
    "</p>\n",
    "</details>"
   ]
  },
  {
   "cell_type": "code",
   "execution_count": 45,
   "metadata": {},
   "outputs": [],
   "source": [
    "df_full['brand'] = df_full.name.apply(lambda x: x.split(',')[0])\n",
    "\n"
   ]
  },
  {
   "cell_type": "code",
   "execution_count": 46,
   "metadata": {},
   "outputs": [
    {
     "data": {
      "text/plain": [
       "121"
      ]
     },
     "execution_count": 46,
     "metadata": {},
     "output_type": "execute_result"
    }
   ],
   "source": [
    "df_full['brand'].value_counts().size"
   ]
  },
  {
   "cell_type": "markdown",
   "metadata": {},
   "source": [
    "## Шаг 16"
   ]
  },
  {
   "cell_type": "markdown",
   "metadata": {},
   "source": [
    "Посчитайте, какую выручку принес каждый бренд и в скольких подтвержденных заказах были товары этого бренда. **Определите, какой бренд принес наибольшую выручку.** В ответ укажите его название.\n",
    "\n",
    "Дополнительно: проверьте, именно этот бренд встречается в большем количестве заказов, чем другие бренды? Или может его реже заказывают, но на более крупные суммы?"
   ]
  },
  {
   "cell_type": "markdown",
   "metadata": {},
   "source": [
    "<details>\n",
    "<summary>&#9658; Нажмите сюда, чтобы увидеть подсказку</summary>\n",
    "  <p>\n",
    "      \n",
    "1) Отберите в датафрейме `df_full` только подтвержденные заказы.\n",
    "\n",
    "2) Сгруппируйте данные по брендам и посчитайте выручку и количество уникальных заказов.\n",
    "\n",
    "3) Отсортируйте агрегированные данные по убыванию выручки и посмотрите бренд в верхней строчке.\n",
    "\n",
    "4) Дополнительно: отсортируйте агрегированные данные по убыванию количество заказов и посмотрите бренд в верхней строчке.\n",
    "\n",
    "</p>\n",
    "</details>"
   ]
  },
  {
   "cell_type": "code",
   "execution_count": 47,
   "metadata": {},
   "outputs": [
    {
     "data": {
      "text/html": [
       "<div>\n",
       "<style scoped>\n",
       "    .dataframe tbody tr th:only-of-type {\n",
       "        vertical-align: middle;\n",
       "    }\n",
       "\n",
       "    .dataframe tbody tr th {\n",
       "        vertical-align: top;\n",
       "    }\n",
       "\n",
       "    .dataframe thead th {\n",
       "        text-align: right;\n",
       "    }\n",
       "</style>\n",
       "<table border=\"1\" class=\"dataframe\">\n",
       "  <thead>\n",
       "    <tr style=\"text-align: right;\">\n",
       "      <th></th>\n",
       "      <th>brand</th>\n",
       "      <th>total_orders</th>\n",
       "      <th>revenue</th>\n",
       "    </tr>\n",
       "  </thead>\n",
       "  <tbody>\n",
       "    <tr>\n",
       "      <th>46</th>\n",
       "      <td>JBL</td>\n",
       "      <td>264</td>\n",
       "      <td>266596053.1</td>\n",
       "    </tr>\n",
       "    <tr>\n",
       "      <th>43</th>\n",
       "      <td>Heco</td>\n",
       "      <td>229</td>\n",
       "      <td>238816349.3</td>\n",
       "    </tr>\n",
       "    <tr>\n",
       "      <th>120</th>\n",
       "      <td>Yamaha</td>\n",
       "      <td>218</td>\n",
       "      <td>165865087.7</td>\n",
       "    </tr>\n",
       "    <tr>\n",
       "      <th>53</th>\n",
       "      <td>Klipsch</td>\n",
       "      <td>205</td>\n",
       "      <td>203902418.5</td>\n",
       "    </tr>\n",
       "    <tr>\n",
       "      <th>62</th>\n",
       "      <td>Magnat</td>\n",
       "      <td>154</td>\n",
       "      <td>114198917.5</td>\n",
       "    </tr>\n",
       "    <tr>\n",
       "      <th>...</th>\n",
       "      <td>...</td>\n",
       "      <td>...</td>\n",
       "      <td>...</td>\n",
       "    </tr>\n",
       "    <tr>\n",
       "      <th>66</th>\n",
       "      <td>Microsoft</td>\n",
       "      <td>1</td>\n",
       "      <td>38542.6</td>\n",
       "    </tr>\n",
       "    <tr>\n",
       "      <th>8</th>\n",
       "      <td>AudioSource</td>\n",
       "      <td>1</td>\n",
       "      <td>33881.7</td>\n",
       "    </tr>\n",
       "    <tr>\n",
       "      <th>40</th>\n",
       "      <td>Fosi Audio</td>\n",
       "      <td>1</td>\n",
       "      <td>31294.2</td>\n",
       "    </tr>\n",
       "    <tr>\n",
       "      <th>18</th>\n",
       "      <td>Bravo Audio</td>\n",
       "      <td>1</td>\n",
       "      <td>24050.9</td>\n",
       "    </tr>\n",
       "    <tr>\n",
       "      <th>24</th>\n",
       "      <td>Creative</td>\n",
       "      <td>1</td>\n",
       "      <td>10014.2</td>\n",
       "    </tr>\n",
       "  </tbody>\n",
       "</table>\n",
       "<p>121 rows × 3 columns</p>\n",
       "</div>"
      ],
      "text/plain": [
       "           brand  total_orders      revenue\n",
       "46           JBL           264  266596053.1\n",
       "43          Heco           229  238816349.3\n",
       "120       Yamaha           218  165865087.7\n",
       "53       Klipsch           205  203902418.5\n",
       "62        Magnat           154  114198917.5\n",
       "..           ...           ...          ...\n",
       "66     Microsoft             1      38542.6\n",
       "8    AudioSource             1      33881.7\n",
       "40    Fosi Audio             1      31294.2\n",
       "18   Bravo Audio             1      24050.9\n",
       "24      Creative             1      10014.2\n",
       "\n",
       "[121 rows x 3 columns]"
      ]
     },
     "execution_count": 47,
     "metadata": {},
     "output_type": "execute_result"
    }
   ],
   "source": [
    "df_full\\\n",
    ".query(\"status =='confirmed'\")\\\n",
    ".groupby(\"brand\", as_index = False)\\\n",
    ".agg({'order_id': pd.Series.nunique, 'revenue':'sum'})\\\n",
    ".rename(columns = {'order_id':'total_orders'})\\\n",
    ".sort_values(by = ['total_orders','revenue'], ascending = [False, False])\\\n",
    ".round(1)"
   ]
  },
  {
   "cell_type": "markdown",
   "metadata": {},
   "source": [
    "## Шаг 17"
   ]
  },
  {
   "cell_type": "markdown",
   "metadata": {},
   "source": [
    "У одних брендов большинство товаров востребовано клиентами, а у других — клиенты заказывают только небольшую часть товаров, а остальные зря занимают виртуальную «полку» в перечне товаров, продаваемых вашей компанией. **Вам нужно определить, какие бренды редко попадают в заказы, хотя товаров таких брендов на самом деле много.**\n",
    "\n",
    "Начнем с того, что определим, какие товары из имеющихся в продаже хоть раз заказывали, а какие — нет. Для этого соберите список из перечня уникальных идентификаторов товаров, которые встречаются в датафрейме `df_confirmed`. После этого для каждого товара в датафрейме `df_products` определите, был ли этот товар в списке заказанных товаров в этом месяце или нет: создайте новую колонку `is_in_orders` и заполните её соответственно значениями `yes` или `no` для каждого товара.\n",
    "\n",
    "**В ответе укажите, сколько товаров были заказаны, а сколько — не были**"
   ]
  },
  {
   "cell_type": "markdown",
   "metadata": {},
   "source": [
    "<details>\n",
    "<summary>&#9658; Нажмите сюда, чтобы увидеть подсказку</summary>\n",
    "  <p>\n",
    "      \n",
    "1) Сохраните в список `products_in_orders` уникальные идентификаторы товаров из датафрейма `df_confirmed`.\n",
    "      \n",
    "2) Создайте в датафрейме `df_products` новую колонку `is_in_orders`, в которой будет значение `yes`, если значение из колонки `id` этого датафрейма есть в списке `products_in_orders`. Если его в этом списке нет - в новую колонку для этой строчки запишите значение `no`.\n",
    "      \n",
    "3) Посчитайте количество встречающихся значений `yes` и  `no` в колонке `is_in_orders`.\n",
    "      \n",
    "</p>\n",
    "</details>"
   ]
  },
  {
   "cell_type": "code",
   "execution_count": 55,
   "metadata": {},
   "outputs": [],
   "source": [
    "ordered_products = df_confirmed.product_id.unique()"
   ]
  },
  {
   "cell_type": "code",
   "execution_count": 60,
   "metadata": {},
   "outputs": [],
   "source": [
    "df_products['is_in_orders'] = df_products.id.apply(lambda x: 'yes' if x in ordered_products else 'no')"
   ]
  },
  {
   "cell_type": "code",
   "execution_count": 65,
   "metadata": {},
   "outputs": [
    {
     "data": {
      "text/html": [
       "<div>\n",
       "<style scoped>\n",
       "    .dataframe tbody tr th:only-of-type {\n",
       "        vertical-align: middle;\n",
       "    }\n",
       "\n",
       "    .dataframe tbody tr th {\n",
       "        vertical-align: top;\n",
       "    }\n",
       "\n",
       "    .dataframe thead th {\n",
       "        text-align: right;\n",
       "    }\n",
       "</style>\n",
       "<table border=\"1\" class=\"dataframe\">\n",
       "  <thead>\n",
       "    <tr style=\"text-align: right;\">\n",
       "      <th></th>\n",
       "      <th>id</th>\n",
       "      <th>name</th>\n",
       "      <th>price</th>\n",
       "      <th>category</th>\n",
       "      <th>is_in_orders</th>\n",
       "    </tr>\n",
       "  </thead>\n",
       "  <tbody>\n",
       "    <tr>\n",
       "      <th>0</th>\n",
       "      <td>207</td>\n",
       "      <td>Denon, AVR-S540BT</td>\n",
       "      <td>243.52</td>\n",
       "      <td>AV-ресивер</td>\n",
       "      <td>yes</td>\n",
       "    </tr>\n",
       "    <tr>\n",
       "      <th>1</th>\n",
       "      <td>208</td>\n",
       "      <td>Denon, AVR-X3700H</td>\n",
       "      <td>1305.52</td>\n",
       "      <td>AV-ресивер</td>\n",
       "      <td>yes</td>\n",
       "    </tr>\n",
       "    <tr>\n",
       "      <th>2</th>\n",
       "      <td>209</td>\n",
       "      <td>Denon, AVR-X4700H</td>\n",
       "      <td>1620.21</td>\n",
       "      <td>AV-ресивер</td>\n",
       "      <td>yes</td>\n",
       "    </tr>\n",
       "    <tr>\n",
       "      <th>3</th>\n",
       "      <td>210</td>\n",
       "      <td>Denon, AVR-X6700H</td>\n",
       "      <td>2050.31</td>\n",
       "      <td>AV-ресивер</td>\n",
       "      <td>yes</td>\n",
       "    </tr>\n",
       "    <tr>\n",
       "      <th>4</th>\n",
       "      <td>211</td>\n",
       "      <td>Denon, AVC-X4700H</td>\n",
       "      <td>1496.81</td>\n",
       "      <td>AV-ресивер</td>\n",
       "      <td>yes</td>\n",
       "    </tr>\n",
       "  </tbody>\n",
       "</table>\n",
       "</div>"
      ],
      "text/plain": [
       "    id               name    price    category is_in_orders\n",
       "0  207  Denon, AVR-S540BT   243.52  AV-ресивер          yes\n",
       "1  208  Denon, AVR-X3700H  1305.52  AV-ресивер          yes\n",
       "2  209  Denon, AVR-X4700H  1620.21  AV-ресивер          yes\n",
       "3  210  Denon, AVR-X6700H  2050.31  AV-ресивер          yes\n",
       "4  211  Denon, AVC-X4700H  1496.81  AV-ресивер          yes"
      ]
     },
     "execution_count": 65,
     "metadata": {},
     "output_type": "execute_result"
    }
   ],
   "source": [
    "df_products.head()"
   ]
  },
  {
   "cell_type": "code",
   "execution_count": 62,
   "metadata": {},
   "outputs": [
    {
     "data": {
      "text/plain": [
       "yes    1180\n",
       "no      497\n",
       "Name: is_in_orders, dtype: int64"
      ]
     },
     "execution_count": 62,
     "metadata": {},
     "output_type": "execute_result"
    }
   ],
   "source": [
    "df_products.is_in_orders.value_counts()"
   ]
  },
  {
   "cell_type": "markdown",
   "metadata": {},
   "source": [
    "## Шаг 18"
   ]
  },
  {
   "cell_type": "markdown",
   "metadata": {},
   "source": [
    "Примерно треть товаров не была заказана ни разу в этом месяце. Посмотрим на эти данные в разрезе по брендам. **Определите, у каких брендов доля ни разу не заказанных товаров была больше половины от всех продаваемых товаров этого бренда.** Но не берите в расчет бренды, которые представлены маленьким числом товаров (меньше 15), они не захламляют виртуальную «полку».\n",
    "\n",
    "Отметьте бренды, у которых доля ни разу не заказанных товаров была больше половины от всех продаваемых товаров этого бренда: \n",
    "- AKG  \n",
    "- ASUS\t\n",
    "- Dali  \n",
    "- Emotiva  \n",
    "- KEF  \n",
    "- Marantz  \n",
    "- Onkyo  \n",
    "- Pioneer  \n",
    "- Yaqin"
   ]
  },
  {
   "cell_type": "markdown",
   "metadata": {},
   "source": [
    "<details>\n",
    "<summary>&#9658; Нажмите сюда, чтобы увидеть подсказку</summary>\n",
    "  <p>\n",
    "       \n",
    "1) В датафрейме `df_products` создайте новую колонку `brand`, в которую поместите только названия брендов. Для этого разделите значения в колонке `name` и возьмите первое из них (сначала идет бренд и через запятую модель товара).\n",
    "      \n",
    "2) Сгруппируйте данные по бренду и колонке, в которой указано, есть товар в заказах, и посчитайте число уникальных товаров. Колонку с числом товаров можете переименовать в `products`.\n",
    "      \n",
    "3) Разверните сгруппированные данные так, чтобы получилась сводная таблица в которой в индексе названия брендов, в колонках - есть товар в заказах или нет (`yes` и `no`), в значениях - количество товаров.\n",
    "      \n",
    "4) Заполните пропуски нулями.\n",
    "      \n",
    "5) Сбросьте индекс, чтобы названия брендов стали колонкой.\n",
    "      \n",
    "6) Посчитайте общее число товаров для каждого бренда, сложив значения в колонках `yes` и `no`.\n",
    "      \n",
    "7) Для каждого бренда посчитайте долю ни разу не заказанных товаров от всех продаваемых товаров этого бренда.\n",
    "      \n",
    "8) Отберите только те бренды, где общее число товаров больше 15 и доля ни разу не заказанных товаров больше половины (0.5).\n",
    "      \n",
    "</p>\n",
    "</details>"
   ]
  },
  {
   "cell_type": "code",
   "execution_count": 66,
   "metadata": {},
   "outputs": [],
   "source": [
    "df_products['brand'] = df_products.name.apply(lambda x: x.split(\",\")[0])"
   ]
  },
  {
   "cell_type": "code",
   "execution_count": 67,
   "metadata": {},
   "outputs": [
    {
     "data": {
      "text/html": [
       "<div>\n",
       "<style scoped>\n",
       "    .dataframe tbody tr th:only-of-type {\n",
       "        vertical-align: middle;\n",
       "    }\n",
       "\n",
       "    .dataframe tbody tr th {\n",
       "        vertical-align: top;\n",
       "    }\n",
       "\n",
       "    .dataframe thead th {\n",
       "        text-align: right;\n",
       "    }\n",
       "</style>\n",
       "<table border=\"1\" class=\"dataframe\">\n",
       "  <thead>\n",
       "    <tr style=\"text-align: right;\">\n",
       "      <th></th>\n",
       "      <th>id</th>\n",
       "      <th>name</th>\n",
       "      <th>price</th>\n",
       "      <th>category</th>\n",
       "      <th>is_in_orders</th>\n",
       "      <th>brand</th>\n",
       "    </tr>\n",
       "  </thead>\n",
       "  <tbody>\n",
       "    <tr>\n",
       "      <th>0</th>\n",
       "      <td>207</td>\n",
       "      <td>Denon, AVR-S540BT</td>\n",
       "      <td>243.52</td>\n",
       "      <td>AV-ресивер</td>\n",
       "      <td>yes</td>\n",
       "      <td>Denon</td>\n",
       "    </tr>\n",
       "    <tr>\n",
       "      <th>1</th>\n",
       "      <td>208</td>\n",
       "      <td>Denon, AVR-X3700H</td>\n",
       "      <td>1305.52</td>\n",
       "      <td>AV-ресивер</td>\n",
       "      <td>yes</td>\n",
       "      <td>Denon</td>\n",
       "    </tr>\n",
       "    <tr>\n",
       "      <th>2</th>\n",
       "      <td>209</td>\n",
       "      <td>Denon, AVR-X4700H</td>\n",
       "      <td>1620.21</td>\n",
       "      <td>AV-ресивер</td>\n",
       "      <td>yes</td>\n",
       "      <td>Denon</td>\n",
       "    </tr>\n",
       "    <tr>\n",
       "      <th>3</th>\n",
       "      <td>210</td>\n",
       "      <td>Denon, AVR-X6700H</td>\n",
       "      <td>2050.31</td>\n",
       "      <td>AV-ресивер</td>\n",
       "      <td>yes</td>\n",
       "      <td>Denon</td>\n",
       "    </tr>\n",
       "    <tr>\n",
       "      <th>4</th>\n",
       "      <td>211</td>\n",
       "      <td>Denon, AVC-X4700H</td>\n",
       "      <td>1496.81</td>\n",
       "      <td>AV-ресивер</td>\n",
       "      <td>yes</td>\n",
       "      <td>Denon</td>\n",
       "    </tr>\n",
       "  </tbody>\n",
       "</table>\n",
       "</div>"
      ],
      "text/plain": [
       "    id               name    price    category is_in_orders  brand\n",
       "0  207  Denon, AVR-S540BT   243.52  AV-ресивер          yes  Denon\n",
       "1  208  Denon, AVR-X3700H  1305.52  AV-ресивер          yes  Denon\n",
       "2  209  Denon, AVR-X4700H  1620.21  AV-ресивер          yes  Denon\n",
       "3  210  Denon, AVR-X6700H  2050.31  AV-ресивер          yes  Denon\n",
       "4  211  Denon, AVC-X4700H  1496.81  AV-ресивер          yes  Denon"
      ]
     },
     "execution_count": 67,
     "metadata": {},
     "output_type": "execute_result"
    }
   ],
   "source": [
    "df_products.head()"
   ]
  },
  {
   "cell_type": "code",
   "execution_count": 155,
   "metadata": {},
   "outputs": [],
   "source": [
    "brands_products = df_products\\\n",
    ".groupby([\"brand\", \"is_in_orders\"], as_index = False)\\\n",
    ".agg({\"id\":\"count\"})\\\n",
    ".pivot(values = 'id', index = 'brand', columns = 'is_in_orders')\\\n",
    ".fillna(0)\\\n",
    ".reset_index()"
   ]
  },
  {
   "cell_type": "code",
   "execution_count": 156,
   "metadata": {},
   "outputs": [],
   "source": [
    "brands_products.columns.name = None"
   ]
  },
  {
   "cell_type": "code",
   "execution_count": 157,
   "metadata": {},
   "outputs": [],
   "source": [
    "brands_products = brands_products.rename(columns = {'no': 'total_no', 'yes': 'total_yes'})"
   ]
  },
  {
   "cell_type": "code",
   "execution_count": 158,
   "metadata": {},
   "outputs": [],
   "source": [
    "brands_products['total_items'] = brands_products.total_no+brands_products.total_yes"
   ]
  },
  {
   "cell_type": "code",
   "execution_count": 161,
   "metadata": {},
   "outputs": [],
   "source": [
    "brands_products[\"share_no\"] = brands_products.total_no/ (brands_products.total_yes+ brands_products.total_no)\n",
    "brands_products[\"share_yes\"] = brands_products.total_yes/ (brands_products.total_yes+ brands_products.total_no)"
   ]
  },
  {
   "cell_type": "code",
   "execution_count": 164,
   "metadata": {},
   "outputs": [
    {
     "data": {
      "text/html": [
       "<div>\n",
       "<style scoped>\n",
       "    .dataframe tbody tr th:only-of-type {\n",
       "        vertical-align: middle;\n",
       "    }\n",
       "\n",
       "    .dataframe tbody tr th {\n",
       "        vertical-align: top;\n",
       "    }\n",
       "\n",
       "    .dataframe thead th {\n",
       "        text-align: right;\n",
       "    }\n",
       "</style>\n",
       "<table border=\"1\" class=\"dataframe\">\n",
       "  <thead>\n",
       "    <tr style=\"text-align: right;\">\n",
       "      <th></th>\n",
       "      <th>brand</th>\n",
       "      <th>total_no</th>\n",
       "      <th>total_yes</th>\n",
       "      <th>total_items</th>\n",
       "      <th>share_no</th>\n",
       "      <th>share_yes</th>\n",
       "    </tr>\n",
       "  </thead>\n",
       "  <tbody>\n",
       "    <tr>\n",
       "      <th>32</th>\n",
       "      <td>Dali</td>\n",
       "      <td>49.0</td>\n",
       "      <td>18.0</td>\n",
       "      <td>67.0</td>\n",
       "      <td>0.731343</td>\n",
       "      <td>0.268657</td>\n",
       "    </tr>\n",
       "    <tr>\n",
       "      <th>60</th>\n",
       "      <td>KEF</td>\n",
       "      <td>54.0</td>\n",
       "      <td>28.0</td>\n",
       "      <td>82.0</td>\n",
       "      <td>0.658537</td>\n",
       "      <td>0.341463</td>\n",
       "    </tr>\n",
       "    <tr>\n",
       "      <th>77</th>\n",
       "      <td>Marantz</td>\n",
       "      <td>19.0</td>\n",
       "      <td>3.0</td>\n",
       "      <td>22.0</td>\n",
       "      <td>0.863636</td>\n",
       "      <td>0.136364</td>\n",
       "    </tr>\n",
       "    <tr>\n",
       "      <th>94</th>\n",
       "      <td>Pioneer</td>\n",
       "      <td>70.0</td>\n",
       "      <td>33.0</td>\n",
       "      <td>103.0</td>\n",
       "      <td>0.679612</td>\n",
       "      <td>0.320388</td>\n",
       "    </tr>\n",
       "  </tbody>\n",
       "</table>\n",
       "</div>"
      ],
      "text/plain": [
       "      brand  total_no  total_yes  total_items  share_no  share_yes\n",
       "32     Dali      49.0       18.0         67.0  0.731343   0.268657\n",
       "60      KEF      54.0       28.0         82.0  0.658537   0.341463\n",
       "77  Marantz      19.0        3.0         22.0  0.863636   0.136364\n",
       "94  Pioneer      70.0       33.0        103.0  0.679612   0.320388"
      ]
     },
     "execution_count": 164,
     "metadata": {},
     "output_type": "execute_result"
    }
   ],
   "source": [
    "brands_products.query(\"(total_items >= 15) and (share_no > 0.5)\")"
   ]
  },
  {
   "cell_type": "markdown",
   "metadata": {},
   "source": [
    "### Составим отчет по продажам менеджеров"
   ]
  },
  {
   "cell_type": "markdown",
   "metadata": {},
   "source": [
    "## Шаг 19"
   ]
  },
  {
   "cell_type": "markdown",
   "metadata": {},
   "source": [
    "Чтобы компания знала, кого из менеджеров отдела продаж премировать, а с кем провести беседу по итогам месяца, **вас попросили сделать отчет по сделкам каждого менеджера**: сколько он оформил подтвержденных заказов и какую выручку они принесли. Но в абсолютных числах вклад каждого сотрудника может быть непонятен. **Поэтому посчитайте значения в процентах: какой % выручки от общей выручки за месяц приходится на каждого менеджера, и какой % заказов от общего числа заказов.** Посчитайте данные и визуализируйте результат, чтобы принимать решение о поощрении или проведении беседы с менеджерами было удобнее. Выберите верные ответы:\n",
    "\n",
    "- лучшим менеджером по % выручки стала Маргарита Камертонова  \n",
    "- лучшим менеджером по % заказов стала Маргарита Камертонова  \n",
    "- первая пятерка менеджеров по % выручки сильно ушла вперед от всех остальных (явно виден большой разрыв между каждым из первой пятерки и каждым из всех остальных менеджеров)  \n",
    "- в этом месяце нельзя выделить явную пятерку лидеров по % выручки, которые сильно оторвались от остальных  \n",
    "- лидер по % заказов реализовал более 16% заказов  \n",
    "- лидер по % заказов реализовал менее 16% заказов  \n",
    "- наихудшие показатели у Сергея Контрабасова  \n",
    "- наихудшие показатели у Аркадия Октавина  \n",
    "- Антон Скрипкин принес в 3 раза меньше выручки, чем Виктор Тромбонов  \n",
    "- Антон Скрипкин реализовал почти в 3 раза меньше заказов, чем Анастасия Дудкина"
   ]
  },
  {
   "cell_type": "markdown",
   "metadata": {},
   "source": [
    "<details>\n",
    "<summary>&#9658; Нажмите сюда, чтобы увидеть подсказку</summary>\n",
    "  <p>\n",
    "       \n",
    "1) Сгруппируйте данные с подтвержденными заказами из датафрейма `df_confirmed` по менеджерам и посчитайте для каждого сумму выручки и количество заказов. Получившуюся колонку с числом заказов можете переименовать в `orders`.\n",
    "      \n",
    "2) Отсортируйте записи по убыванию выручки.\n",
    "      \n",
    "3) Посчитайте процент выручки, приходящейся на каждого менеджера: разделите его выручку на суммарную выручку всех менеджеров и умножьте результат на 100. Округлите до двух знаков после точки.\n",
    "      \n",
    "4) Посчитайте процент заказов, приходящихся на каждого менеджера: разделите его число заказов на суммарное число заказов всех менеджеров и умножьте результат на 100. Округлите до двух знаков после точки.   \n",
    "      \n",
    "5) Постройте два барплота (столбиковые диаграммы): со значениями % выручки и % заказов у каждого менеджера.\n",
    "      \n",
    "</p>\n",
    "</details>"
   ]
  },
  {
   "cell_type": "code",
   "execution_count": 214,
   "metadata": {},
   "outputs": [],
   "source": [
    "pd.set_option('display.float_format', lambda x: '%.3f' % x)"
   ]
  },
  {
   "cell_type": "code",
   "execution_count": 216,
   "metadata": {},
   "outputs": [],
   "source": [
    "managers_performance = df_full\\\n",
    ".query(\"status == 'confirmed'\")\\\n",
    ".groupby(\"manager\", as_index = False)\\\n",
    ".agg({\"order_id\":pd.Series.nunique, 'revenue':\"sum\"})\\\n",
    ".rename(columns = {\"order_id\":'total_orders'})\\\n",
    ".sort_values(by = [\"revenue\", 'total_orders'])\n",
    "\n"
   ]
  },
  {
   "cell_type": "code",
   "execution_count": 217,
   "metadata": {},
   "outputs": [],
   "source": [
    "managers_performance['total_orders_share'] = managers_performance.total_orders/managers_performance.total_orders.sum()\n",
    "managers_performance['total_revenue_share'] = managers_performance.revenue/managers_performance.revenue.sum()"
   ]
  },
  {
   "cell_type": "code",
   "execution_count": 218,
   "metadata": {},
   "outputs": [
    {
     "data": {
      "text/html": [
       "<div>\n",
       "<style scoped>\n",
       "    .dataframe tbody tr th:only-of-type {\n",
       "        vertical-align: middle;\n",
       "    }\n",
       "\n",
       "    .dataframe tbody tr th {\n",
       "        vertical-align: top;\n",
       "    }\n",
       "\n",
       "    .dataframe thead th {\n",
       "        text-align: right;\n",
       "    }\n",
       "</style>\n",
       "<table border=\"1\" class=\"dataframe\">\n",
       "  <thead>\n",
       "    <tr style=\"text-align: right;\">\n",
       "      <th></th>\n",
       "      <th>manager</th>\n",
       "      <th>total_orders</th>\n",
       "      <th>revenue</th>\n",
       "      <th>total_orders_share</th>\n",
       "      <th>total_revenue_share</th>\n",
       "    </tr>\n",
       "  </thead>\n",
       "  <tbody>\n",
       "    <tr>\n",
       "      <th>11</th>\n",
       "      <td>Сергей Контрабасов</td>\n",
       "      <td>5</td>\n",
       "      <td>28572232.634</td>\n",
       "      <td>0.016</td>\n",
       "      <td>0.014</td>\n",
       "    </tr>\n",
       "    <tr>\n",
       "      <th>3</th>\n",
       "      <td>Аркадий Октавин</td>\n",
       "      <td>5</td>\n",
       "      <td>29736777.026</td>\n",
       "      <td>0.016</td>\n",
       "      <td>0.015</td>\n",
       "    </tr>\n",
       "    <tr>\n",
       "      <th>2</th>\n",
       "      <td>Антон Скрипкин</td>\n",
       "      <td>7</td>\n",
       "      <td>51502684.749</td>\n",
       "      <td>0.023</td>\n",
       "      <td>0.025</td>\n",
       "    </tr>\n",
       "    <tr>\n",
       "      <th>1</th>\n",
       "      <td>Анастасия Дудкина</td>\n",
       "      <td>20</td>\n",
       "      <td>123450361.324</td>\n",
       "      <td>0.065</td>\n",
       "      <td>0.061</td>\n",
       "    </tr>\n",
       "    <tr>\n",
       "      <th>10</th>\n",
       "      <td>Надежда Гармошкина</td>\n",
       "      <td>21</td>\n",
       "      <td>134783644.493</td>\n",
       "      <td>0.068</td>\n",
       "      <td>0.066</td>\n",
       "    </tr>\n",
       "    <tr>\n",
       "      <th>6</th>\n",
       "      <td>Екатерина Тарелкина</td>\n",
       "      <td>28</td>\n",
       "      <td>178157639.093</td>\n",
       "      <td>0.091</td>\n",
       "      <td>0.087</td>\n",
       "    </tr>\n",
       "    <tr>\n",
       "      <th>7</th>\n",
       "      <td>Ксения Балалайкина</td>\n",
       "      <td>27</td>\n",
       "      <td>181762137.427</td>\n",
       "      <td>0.087</td>\n",
       "      <td>0.089</td>\n",
       "    </tr>\n",
       "    <tr>\n",
       "      <th>0</th>\n",
       "      <td>Алексей Саксофонов</td>\n",
       "      <td>27</td>\n",
       "      <td>195343533.804</td>\n",
       "      <td>0.087</td>\n",
       "      <td>0.096</td>\n",
       "    </tr>\n",
       "    <tr>\n",
       "      <th>5</th>\n",
       "      <td>Владимир Ударников</td>\n",
       "      <td>31</td>\n",
       "      <td>208486484.333</td>\n",
       "      <td>0.100</td>\n",
       "      <td>0.102</td>\n",
       "    </tr>\n",
       "    <tr>\n",
       "      <th>8</th>\n",
       "      <td>Максим Барабанов</td>\n",
       "      <td>40</td>\n",
       "      <td>240147807.034</td>\n",
       "      <td>0.129</td>\n",
       "      <td>0.118</td>\n",
       "    </tr>\n",
       "    <tr>\n",
       "      <th>4</th>\n",
       "      <td>Виктор Тромбонов</td>\n",
       "      <td>50</td>\n",
       "      <td>318899926.540</td>\n",
       "      <td>0.162</td>\n",
       "      <td>0.156</td>\n",
       "    </tr>\n",
       "    <tr>\n",
       "      <th>9</th>\n",
       "      <td>Маргарита Камертонова</td>\n",
       "      <td>48</td>\n",
       "      <td>347388593.109</td>\n",
       "      <td>0.155</td>\n",
       "      <td>0.170</td>\n",
       "    </tr>\n",
       "  </tbody>\n",
       "</table>\n",
       "</div>"
      ],
      "text/plain": [
       "                  manager  total_orders       revenue  total_orders_share  \\\n",
       "11     Сергей Контрабасов             5  28572232.634               0.016   \n",
       "3         Аркадий Октавин             5  29736777.026               0.016   \n",
       "2          Антон Скрипкин             7  51502684.749               0.023   \n",
       "1       Анастасия Дудкина            20 123450361.324               0.065   \n",
       "10     Надежда Гармошкина            21 134783644.493               0.068   \n",
       "6     Екатерина Тарелкина            28 178157639.093               0.091   \n",
       "7      Ксения Балалайкина            27 181762137.427               0.087   \n",
       "0      Алексей Саксофонов            27 195343533.804               0.087   \n",
       "5      Владимир Ударников            31 208486484.333               0.100   \n",
       "8        Максим Барабанов            40 240147807.034               0.129   \n",
       "4        Виктор Тромбонов            50 318899926.540               0.162   \n",
       "9   Маргарита Камертонова            48 347388593.109               0.155   \n",
       "\n",
       "    total_revenue_share  \n",
       "11                0.014  \n",
       "3                 0.015  \n",
       "2                 0.025  \n",
       "1                 0.061  \n",
       "10                0.066  \n",
       "6                 0.087  \n",
       "7                 0.089  \n",
       "0                 0.096  \n",
       "5                 0.102  \n",
       "8                 0.118  \n",
       "4                 0.156  \n",
       "9                 0.170  "
      ]
     },
     "execution_count": 218,
     "metadata": {},
     "output_type": "execute_result"
    }
   ],
   "source": [
    "managers_performance"
   ]
  },
  {
   "cell_type": "code",
   "execution_count": 219,
   "metadata": {},
   "outputs": [
    {
     "data": {
      "image/png": "[encoded data removed]",
      "text/plain": [
       "<Figure size 1080x504 with 2 Axes>"
      ]
     },
     "metadata": {},
     "output_type": "display_data"
    }
   ],
   "source": [
    "fig, ax = plt.subplots(1,2,figsize = (15,7), constrained_layout = True)\n",
    "sns.barplot(data = managers_performance, x = 'manager', y = 'total_orders_share', ax = ax[0])\n",
    "sns.barplot(data = managers_performance, x = 'manager', y = 'total_revenue_share', ax = ax[1])\n",
    "ax[0].tick_params(labelrotation=90)\n",
    "ax[1].tick_params(labelrotation=90)\n",
    "fig.suptitle(\"Managers performance\")\n",
    "plt.show()"
   ]
  },
  {
   "cell_type": "markdown",
   "metadata": {},
   "source": [
    "## Итоги"
   ]
  },
  {
   "cell_type": "markdown",
   "metadata": {},
   "source": [
    "В финальном проекте модуля Python вы проанализировали продажи музыкальных товаров: собрали данные, посчитали ключевые метрики в динамике; определили дни, которые выбиваются из общей картины, и выяснили причину этого; нашли наиболее прибыльные бренды и те, которые зря занимают место на виртуальной «полке». Вы проделали отличную работу!\n",
    "\n",
    "Но если считаете, что можете больше, продолжайте анализ имеющихся данных самостоятельно. Например, посмотрите, в какие дни недели оформляется в среднем больше заказов; составьте более полный отчет по продажам каждого менеджера (учтите отмененные заказы); определите наиболее и наименее популярные/прибыльные категории товаров и т.п. Данные полны инсайтов! Но эти задания не оцениваются и по ним не осуществляется поддержка экспертов. Зато вы можете сделать эту работу своим пет-проектом :)"
   ]
  },
  {
   "cell_type": "code",
   "execution_count": null,
   "metadata": {},
   "outputs": [],
   "source": []
  }
 ],
 "metadata": {
  "kernelspec": {
   "display_name": "Python 3",
   "language": "python",
   "name": "python3"
  },
  "language_info": {
   "codemirror_mode": {
    "name": "ipython",
    "version": 3
   },
   "file_extension": ".py",
   "mimetype": "text/x-python",
   "name": "python",
   "nbconvert_exporter": "python",
   "pygments_lexer": "ipython3",
   "version": "3.7.3"
  }
 },
 "nbformat": 4,
 "nbformat_minor": 5
}
